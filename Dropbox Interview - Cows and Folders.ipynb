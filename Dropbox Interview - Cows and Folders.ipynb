{
 "cells": [
  {
   "cell_type": "markdown",
   "metadata": {},
   "source": [
    "# Cows and Folders"
   ]
  },
  {
   "cell_type": "raw",
   "metadata": {},
   "source": [
    "Problem Description:\n",
    "In a folder system there are:\n",
    "-shared folders\n",
    "-confidential folders\n",
    "\n",
    "Each folder has a list of cows that are explicit members of the folder.\n",
    "If you are an explicit member, you can access that folder and all its non-confidential child folders through ineritance\n",
    "\n",
    "A folder is called a leaf if it is not the parent of any other folder.\n",
    "A cow is uncool if there is at least one leaf they cannot access.\n",
    "Determine which cows are uncool.\n"
   ]
  },
  {
   "cell_type": "raw",
   "metadata": {},
   "source": [
    "Input:\n",
    "\n",
    "3\t\t\t# Q cows\n",
    "2 1\t\t\t# M shared folders, N confidential folders\n",
    "1 1 0\t\t# folder id of shared, K cows have explicit access, K ids (M=2)\n",
    "2 1 1 \t\t# folder id of shared, K cows have explicit access, K ids (M=2)\n",
    "3 3 0 1 2\t# folder id of confidential, K cows with explicit access, K ids\n",
    "2\t\t\t# single non-negative int G\t\n",
    "1 2 \t\t# U,V. U folder id of parent, V child folder id (G=2)\n",
    "1 3 \t\t# U,V. U folder id of parent, V child folder id (G=2)\n"
   ]
  },
  {
   "cell_type": "raw",
   "metadata": {},
   "source": [
    "Output: (Return ID of uncool cow, cow that cannot access at least one leaf)\n",
    "2\n",
    "\n",
    "\tSF1\n",
    "   /   \\\n",
    " SF2   CF3\n",
    "\n",
    "\n",
    " \tSF1 (0)\n",
    "   /        \\\n",
    " SF2 (0,1)   CF3 (0,1,2)\n",
    "\n",
    "\n",
    " Cow 0 has access to SF1 id=1 (1 1 0)\n",
    " Cow 1 has access to SF2 id=2 (2 1 1)\n",
    " \tCow 0 also has access because folder id=1 is a parent of folder id=2 (1 2)\n",
    " Cow 0,1,2 has access to CF3 id=3 (3 3 0 1 2)\n",
    "\n",
    " Cow 2 cannot access SF2 id=2, so return 2."
   ]
  },
  {
   "cell_type": "raw",
   "metadata": {},
   "source": [
    "Custom input: (Becomes tree below)\n",
    "4\n",
    "4 2\n",
    "1 2 0 2 \n",
    "2 1 3 \n",
    "5 1 1\n",
    "6 3 0 1 3\n",
    "3 0 \n",
    "4 3 0 1 2\n",
    "5\n",
    "1 2\n",
    "1 3\n",
    "2 4\n",
    "2 5\n",
    "3 6\n",
    "(Unshaded nodes = shared folders, shaded nodes = confidential nodes in the picture)\n",
    "Expected output: 2,3 (the cows that don't have access to all leaf nodes)"
   ]
  },
  {
   "cell_type": "markdown",
   "metadata": {},
   "source": [
    "<img src=\"files/c&f_tree.jpg\">"
   ]
  },
  {
   "cell_type": "code",
   "execution_count": 4,
   "metadata": {},
   "outputs": [
    {
     "name": "stdout",
     "output_type": "stream",
     "text": [
      "2\n",
      "3\n"
     ]
    }
   ],
   "source": [
    "# import sys\n",
    "\n",
    "# data = sys.stdin.read().splitlines()\n",
    "data = ['4', '4 2', '1 2 0 2 ', '2 1 3 ', '5 1 1', '6 3 0 1 3', '3 0 ', '4 3 0 1 2', '5', '1 2', '1 3', '2 4', '2 5', '3 6']\n",
    "sdata = []\n",
    "\n",
    "for row in data:\n",
    "    sdata.append(row.split())\n",
    "\n",
    "#print(sdata)\n",
    "\n",
    "Q = int(sdata[0][0]) #num cows\n",
    "M = int(sdata[1][0]) #num shared folders\n",
    "N = int(sdata[1][1]) #num confidential folders\n",
    "G = int(sdata[2+M+N][0]) #num folder edges\n",
    "#print(Q, M, N, G)\n",
    "\n",
    "nodenames = []\n",
    "shared = []\n",
    "confidential = []\n",
    "for i in range(0, M):\n",
    "\tn_name = sdata[1+1+i][0]\n",
    "\tnodenames.append(n_name)\n",
    "\tshared.append(n_name)\n",
    "for i in range(0, N):\n",
    "\tn_name = sdata[1+1+M+i][0]\n",
    "\tnodenames.append(n_name)\n",
    "\tconfidential.append(n_name)\n",
    "# print(nodenames)\n",
    "# print(shared)\n",
    "# print(confidential)\n",
    "\n",
    "\n",
    "nodelist = {} #map of node: children\n",
    "for node in nodenames:\n",
    "\tnodelist[node] = []\n",
    "#print(nodelist)\n",
    "\n",
    "for i in range(0, G): #loop for G # of edges\n",
    "\tparent = sdata[3+M+N+i][0]\n",
    "\tchild = sdata[3+M+N+i][1]\n",
    "\t\n",
    "\tif parent not in nodelist:\n",
    "\t\tnodelist[parent] = [child]\n",
    "\telse:\n",
    "\t\tnodelist[parent].append(child)\n",
    "#print(nodelist)\n",
    "\n",
    "\n",
    "accesslist = {} #map of node: cows that have access\n",
    "for i in range(1+1, 1+1+M+N):\n",
    "\tnode = sdata[i][0]\n",
    "\tnumcows = int(sdata[i][1])\n",
    "\taccesslist[node] = []\n",
    "\tfor j in range(0, numcows):\n",
    "\t\taccesslist[node].append(sdata[i][1+1+j])\n",
    "#print(accesslist)\n",
    "\n",
    "\n",
    "#update recursively which nodes can be accessed by which cow\n",
    "def grantPermissions(nodelist, accesslist, sharedlist):\n",
    "\tfor node in accesslist:\n",
    "\t\tfor child in nodelist[node]:\n",
    "\t\t\tif child in sharedlist:\n",
    "\t\t\t\tfor cow in accesslist[node]:\n",
    "\t\t\t\t\tif cow not in accesslist[child]:\n",
    "\t\t\t\t\t\taccesslist[child].append(cow)\n",
    "\t\t\t\t\t\tgrantPermissions(nodelist, accesslist, sharedlist)\n",
    "\n",
    "\n",
    "grantPermissions(nodelist, accesslist, shared)\n",
    "#print(accesslist)\n",
    "\n",
    "leaflist = []\n",
    "for node in nodelist:\n",
    "\tif nodelist[node] == []:\n",
    "\t\tleaflist.append(node)\n",
    "#print(leaflist)\n",
    "\n",
    "cows = set(range(0,Q))\n",
    "coolcows = set(range(0,Q))\n",
    "#print(coolcows)\n",
    "for leaf in leaflist:\n",
    "\tlst = accesslist[leaf]\n",
    "\ts = set(list(map(int, lst)))\n",
    "\tcoolcows = coolcows.intersection(s)\n",
    "\n",
    "#print(coolcows)\n",
    "uncoolcows = cows.symmetric_difference(coolcows)\n",
    "for sadcow in uncoolcows:\n",
    "\tprint (sadcow)"
   ]
  },
  {
   "cell_type": "code",
   "execution_count": null,
   "metadata": {
    "collapsed": true
   },
   "outputs": [],
   "source": []
  }
 ],
 "metadata": {
  "kernelspec": {
   "display_name": "Python 3",
   "language": "python",
   "name": "python3"
  },
  "language_info": {
   "codemirror_mode": {
    "name": "ipython",
    "version": 3
   },
   "file_extension": ".py",
   "mimetype": "text/x-python",
   "name": "python",
   "nbconvert_exporter": "python",
   "pygments_lexer": "ipython3",
   "version": "3.6.0"
  }
 },
 "nbformat": 4,
 "nbformat_minor": 2
}
