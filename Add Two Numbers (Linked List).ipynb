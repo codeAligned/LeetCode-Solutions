{
 "cells": [
  {
   "cell_type": "markdown",
   "metadata": {},
   "source": [
    "## LeetCode Add 2 Numbers"
   ]
  },
  {
   "cell_type": "raw",
   "metadata": {},
   "source": [
    "2 Linked lists with numbers in reverse order\n",
    "Add them together and output as a linked list\n",
    "\n",
    "e.g.\n",
    "\n",
    "#Input: (2 -> 4 -> 3) + (5 -> 6 -> 4)\n",
    "#Output: 7 -> 0 -> 8\n",
    "\n",
    "465 + 243 = 708"
   ]
  },
  {
   "cell_type": "code",
   "execution_count": 15,
   "metadata": {},
   "outputs": [
    {
     "name": "stdout",
     "output_type": "stream",
     "text": [
      "7\n",
      "0\n",
      "8\n"
     ]
    }
   ],
   "source": [
    "# Definition for singly-linked list.\n",
    "class ListNode(object):\n",
    "    def __init__(self, x):\n",
    "        self.val = x\n",
    "        self.next = None\n",
    "\n",
    "\n",
    "def addTwoNumbers(l1, l2):\n",
    "    headptr = l3 = ListNode(-1) #keep headptr to return\n",
    "    carry = 0\n",
    "\n",
    "    while l1 or l2:\n",
    "        a = l1.val if l1 else 0\n",
    "        b = l2.val if l2 else 0\n",
    "\n",
    "        sum = a+b+carry\n",
    "        l3.next = ListNode(sum%10) #the ones digit\n",
    "        l3 = l3.next\n",
    "        carry = sum//10 #divided by 10 rounded\n",
    "\n",
    "        if l1:\n",
    "            l1 = l1.next\n",
    "        if l2:\n",
    "            l2 = l2.next\n",
    "\n",
    "    #to check if final number overflows\n",
    "    if carry > 0:\n",
    "        l3.next = ListNode(1)\n",
    "\n",
    "    return headptr.next #ignore first node that is a ListNode(-1)\n",
    "\n",
    "\n",
    "#Input: (2 -> 4 -> 3) + (5 -> 6 -> 4)\n",
    "#Output: 7 -> 0 -> 8\n",
    "\n",
    "l1 = ListNode(2)\n",
    "l1.next = ListNode(4)\n",
    "l1.next.next = ListNode(3)\n",
    "l2 = ListNode(5)\n",
    "l2.next = ListNode(6)\n",
    "l2.next.next = ListNode(4)\n",
    "l3 = addTwoNumbers(l1, l2)\n",
    "while l3:\n",
    "    print (l3.val)\n",
    "    l3 = l3.next"
   ]
  },
  {
   "cell_type": "code",
   "execution_count": null,
   "metadata": {
    "collapsed": true
   },
   "outputs": [],
   "source": [
    "\n"
   ]
  }
 ],
 "metadata": {
  "kernelspec": {
   "display_name": "Python 3",
   "language": "python",
   "name": "python3"
  },
  "language_info": {
   "codemirror_mode": {
    "name": "ipython",
    "version": 3
   },
   "file_extension": ".py",
   "mimetype": "text/x-python",
   "name": "python",
   "nbconvert_exporter": "python",
   "pygments_lexer": "ipython3",
   "version": "3.6.0"
  }
 },
 "nbformat": 4,
 "nbformat_minor": 2
}
