{
 "cells": [
  {
   "cell_type": "raw",
   "metadata": {},
   "source": [
    "Given:\n",
    "beginWord = \"hit\"\n",
    "endWord = \"cog\"\n",
    "wordList = [\"hot\",\"dot\",\"dog\",\"lot\",\"log\",\"cog\"]\n",
    "As one shortest transformation is \"hit\" -> \"hot\" -> \"dot\" -> \"dog\" -> \"cog\",\n",
    "return its length 5.\n"
   ]
  },
  {
   "cell_type": "code",
   "execution_count": 5,
   "metadata": {},
   "outputs": [
    {
     "name": "stdout",
     "output_type": "stream",
     "text": [
      "0\n",
      "5\n"
     ]
    }
   ],
   "source": [
    "class Solution(object):\n",
    "    def ladderLength(self, beginWord, endWord, wordList):\n",
    "        \"\"\"\n",
    "        :type beginWord: str\n",
    "        :type endWord: str\n",
    "        :type wordList: List[str]\n",
    "        :rtype: int\n",
    "        \"\"\"\n",
    "        distance, cur, visited, lookup = 0, [beginWord], set([beginWord]), set(wordList)\n",
    "\n",
    "        while cur:\n",
    "            next_queue = []\n",
    "\n",
    "            for word in cur:\n",
    "                if word == endWord:\n",
    "                    return distance + 1\n",
    "                for i in range(len(word)):\n",
    "                    for j in 'abcdefghijklmnopqrstuvwxyz':\n",
    "                        candidate = word[:i] + j + word[i + 1:]\n",
    "                        if candidate not in visited and candidate in lookup:\n",
    "                            next_queue.append(candidate)\n",
    "                            visited.add(candidate)\n",
    "            distance += 1\n",
    "            cur = next_queue\n",
    "\n",
    "        return 0\n",
    "\n",
    "\n",
    "if __name__ == \"__main__\":\n",
    "    s = Solution()\n",
    "    print (s.ladderLength(\"hit\", \"cog\", set([\"hot\", \"dot\", \"dog\", \"lot\", \"log\"])))\n",
    "    print (s.ladderLength(\"hit\", \"cog\", set([\"hot\", \"dot\", \"dog\", \"lot\", \"log\", \"cog\"])))"
   ]
  },
  {
   "cell_type": "code",
   "execution_count": null,
   "metadata": {
    "collapsed": true
   },
   "outputs": [],
   "source": []
  }
 ],
 "metadata": {
  "kernelspec": {
   "display_name": "Python 3",
   "language": "python",
   "name": "python3"
  },
  "language_info": {
   "codemirror_mode": {
    "name": "ipython",
    "version": 3
   },
   "file_extension": ".py",
   "mimetype": "text/x-python",
   "name": "python",
   "nbconvert_exporter": "python",
   "pygments_lexer": "ipython3",
   "version": "3.6.0"
  }
 },
 "nbformat": 4,
 "nbformat_minor": 2
}
