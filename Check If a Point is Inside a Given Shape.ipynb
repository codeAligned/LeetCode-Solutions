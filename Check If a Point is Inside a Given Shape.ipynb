{
 "cells": [
  {
   "cell_type": "markdown",
   "metadata": {},
   "source": [
    "# Check If a Point is Inside a Given Shape"
   ]
  },
  {
   "cell_type": "raw",
   "metadata": {},
   "source": [
    "(Bloomberg Q)\n",
    "Plane Question, given point p, how to check if it's inside a given polygon"
   ]
  },
  {
   "cell_type": "raw",
   "metadata": {},
   "source": [
    "Step 1)\n",
    "Function to see if 3 points collinear\n",
    "Given points a,b,c\n",
    "If the ratio the x diff and y diff of two points, (a.x-b.x)/(a.y-b.y) == (b.x-c.x)/(b.y-c.y),\n",
    "then the 3 points have the same slope (collinear)"
   ]
  },
  {
   "cell_type": "code",
   "execution_count": 2,
   "metadata": {},
   "outputs": [],
   "source": [
    "def collinear(a, b, c):\n",
    "    if (a.x-b.x)/(a.y-b.y) == (b.x-c.x)/(b.y-c.y):\n",
    "        return True\n",
    "    return False"
   ]
  },
  {
   "cell_type": "raw",
   "metadata": {},
   "source": [
    "http://www.geeksforgeeks.org/how-to-check-if-a-given-point-lies-inside-a-polygon/\n",
    "Image: http://www.geeksforgeeks.org/wp-content/uploads/polygon31-300x169.png\n",
    "\n",
    "\n",
    "How to check if point is inside Polygon:\n",
    "\n",
    "1) Draw a horizontal line to the right of each point and extend it to infinity\n",
    "\n",
    "2) Count the number of times the line intersects with polygon edges.\n",
    "\n",
    "3) A point is inside the polygon if either count of intersections is odd or\n",
    "   point lies on an edge of polygon.  If none of the conditions is true, then \n",
    "   point lies outside."
   ]
  },
  {
   "cell_type": "code",
   "execution_count": null,
   "metadata": {
    "collapsed": true
   },
   "outputs": [],
   "source": [
    "bool isInside(Point polygon[], int n, Point p)\n",
    "{\n",
    "    // There must be at least 3 vertices in polygon[]\n",
    "    if (n < 3)  return false;\n",
    " \n",
    "    // Create a point for line segment from p to infinite\n",
    "    Point extreme = {INF, p.y};\n",
    " \n",
    "    // Count intersections of the above line with sides of polygon\n",
    "    int count = 0, i = 0;\n",
    "    do\n",
    "    {\n",
    "        int next = (i+1)%n;\n",
    " \n",
    "        // Check if the line segment from 'p' to 'extreme' intersects\n",
    "        // with the line segment from 'polygon[i]' to 'polygon[next]'\n",
    "        if (doIntersect(polygon[i], polygon[next], p, extreme))\n",
    "        {\n",
    "            // If the point 'p' is colinear with line segment 'i-next',\n",
    "            // then check if it lies on segment. If it lies, return true,\n",
    "            // otherwise false\n",
    "            if (orientation(polygon[i], p, polygon[next]) == 0)\n",
    "               return onSegment(polygon[i], p, polygon[next]);\n",
    " \n",
    "            count++;\n",
    "        }\n",
    "        i = next;\n",
    "    } while (i != 0);\n",
    " \n",
    "    // Return true if count is odd, false otherwise\n",
    "    return count&1;  // Same as (count%2 == 1)\n",
    "}"
   ]
  }
 ],
 "metadata": {
  "kernelspec": {
   "display_name": "Python 3",
   "language": "python",
   "name": "python3"
  },
  "language_info": {
   "codemirror_mode": {
    "name": "ipython",
    "version": 3
   },
   "file_extension": ".py",
   "mimetype": "text/x-python",
   "name": "python",
   "nbconvert_exporter": "python",
   "pygments_lexer": "ipython3",
   "version": "3.6.0"
  }
 },
 "nbformat": 4,
 "nbformat_minor": 2
}
