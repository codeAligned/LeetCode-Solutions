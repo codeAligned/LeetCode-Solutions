{
 "cells": [
  {
   "cell_type": "markdown",
   "metadata": {},
   "source": [
    "# Level Order Traversal"
   ]
  },
  {
   "cell_type": "raw",
   "metadata": {},
   "source": [
    "Traverse a Binary Tree in order of levels.\n",
    "\n",
    "    1\n",
    "   / \\\n",
    "  2   3\n",
    " / \\ / \\\n",
    "4  5 6  7\n",
    "\n",
    "1,2,3,4,5,6,7\n",
    "\n",
    "O(logn)"
   ]
  },
  {
   "cell_type": "code",
   "execution_count": 8,
   "metadata": {},
   "outputs": [
    {
     "name": "stdout",
     "output_type": "stream",
     "text": [
      "A B C D E F G \n"
     ]
    }
   ],
   "source": [
    "class Node:\n",
    "    def __init__(self ,data):\n",
    "        self.data = data\n",
    "        self.left  = None\n",
    "        self.right = None\n",
    "\n",
    "\n",
    "#Use a queue\n",
    "def levelOrder(root):\n",
    "    traversal = ''\n",
    "\n",
    "    if root != None:\n",
    "        queue = [root]\n",
    "        while len(queue) != 0:\n",
    "            traversal += str(queue[0].data) + ' '\n",
    "            if queue[0].left != None:\n",
    "                queue.append(queue[0].left)\n",
    "            if queue[0].right != None:\n",
    "                queue.append(queue[0].right)\n",
    "            queue.pop(0)\n",
    "    print(traversal)\n",
    "    \n",
    "    \n",
    "root = Node('A')\n",
    "root.left = Node('B')\n",
    "root.right = Node('C')\n",
    "root.left.left = Node('D')\n",
    "root.left.right = Node('E')\n",
    "root.right.left  = Node('F')\n",
    "root.right.right = Node('G')\n",
    "levelOrder(root)\n",
    " "
   ]
  },
  {
   "cell_type": "code",
   "execution_count": null,
   "metadata": {
    "collapsed": true
   },
   "outputs": [],
   "source": []
  }
 ],
 "metadata": {
  "kernelspec": {
   "display_name": "Python 3",
   "language": "python",
   "name": "python3"
  },
  "language_info": {
   "codemirror_mode": {
    "name": "ipython",
    "version": 3
   },
   "file_extension": ".py",
   "mimetype": "text/x-python",
   "name": "python",
   "nbconvert_exporter": "python",
   "pygments_lexer": "ipython3",
   "version": "3.6.0"
  }
 },
 "nbformat": 4,
 "nbformat_minor": 2
}
