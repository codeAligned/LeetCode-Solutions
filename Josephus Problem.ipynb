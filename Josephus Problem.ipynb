{
 "cells": [
  {
   "cell_type": "raw",
   "metadata": {},
   "source": [
    "Josephus Problem (Bloomberg)\n",
    "\n",
    "Given a n number of people in a circle, integer k, every kth person in the circle will be killed\n",
    "Find where to stand in the circle to survive.\n",
    "\n",
    "e.g.\n",
    "n=6, k=2\n",
    "1) [1,2,3,4,5,6] -> k=2, counts 1,2. lands on 2nd person, 2 removed from circle\n",
    "2) [1,3,4,5,6]   -> counts 3,4 (starting from last left off), 4 removed from circle\n",
    "3) [1,3,5,6]     -> 5,6. 6 removed\n",
    "4) [1,3,5]       -> 1,3. 3 removed\n",
    "5) [1,5]         -> 5,1. 5 removed.\n",
    "6) [5]           -> 5 is the remaining survivor. 5 is the solution.\n",
    "\n",
    "(More of a math problem tbh)"
   ]
  },
  {
   "cell_type": "raw",
   "metadata": {},
   "source": [
    "The problem has following recursive structure.\n",
    "\n",
    "  josephus(n, k) = (josephus(n - 1, k) + k-1) % n + 1\n",
    "  josephus(1, k) = 1\n",
    "  \n",
    "Logic:\n",
    "(josephus(n - 1, k) + k-1) % n + 1\n",
    "josephus of next state (with only n-1 people), then add k-1 because new circle now shifted by k-1, starts from where sword last left off. The modular n+1 because it is a circle (any number greater than circle just loops around)\n",
    "  "
   ]
  },
  {
   "cell_type": "code",
   "execution_count": 6,
   "metadata": {},
   "outputs": [
    {
     "name": "stdout",
     "output_type": "stream",
     "text": [
      "5\n"
     ]
    }
   ],
   "source": [
    "def josephus(n, k):\n",
    "    if n == 1:\n",
    "        return 1\n",
    "    else:\n",
    "        return (josephus(n - 1, k) + k-1) % n + 1\n",
    "\n",
    "n=6\n",
    "k=2\n",
    "print(josephus(n,k))\n"
   ]
  }
 ],
 "metadata": {
  "kernelspec": {
   "display_name": "Python 3",
   "language": "python",
   "name": "python3"
  },
  "language_info": {
   "codemirror_mode": {
    "name": "ipython",
    "version": 3
   },
   "file_extension": ".py",
   "mimetype": "text/x-python",
   "name": "python",
   "nbconvert_exporter": "python",
   "pygments_lexer": "ipython3",
   "version": "3.6.0"
  }
 },
 "nbformat": 4,
 "nbformat_minor": 2
}
