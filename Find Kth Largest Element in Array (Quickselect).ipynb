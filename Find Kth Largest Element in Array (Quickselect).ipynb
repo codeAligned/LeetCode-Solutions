{
 "cells": [
  {
   "cell_type": "markdown",
   "metadata": {},
   "source": [
    "# Find Kth Largest Element in Array (Quickselect) (Bloomberg)"
   ]
  },
  {
   "cell_type": "code",
   "execution_count": 8,
   "metadata": {},
   "outputs": [
    {
     "name": "stdout",
     "output_type": "stream",
     "text": [
      "7\n"
     ]
    }
   ],
   "source": [
    "#O(n) time, O(n) space\n",
    "#Building a heap is O(n) overall complexity. (sidenote: a single heapify call is O(logn) though)\n",
    "\n",
    "import heapq\n",
    "def findKthLargest(nums, k):\n",
    "    heap = []\n",
    "    res = 0\n",
    "\n",
    "    for i in nums:\n",
    "        heapq.heappush(heap, -i) #push -i because heapq is default smallest first\n",
    "\n",
    "    for j in range(k): #pop k times, kth pop will be the kth largest\n",
    "        res = -heapq.heappop(heap)\n",
    "\n",
    "    return res\n",
    "\n",
    "\n",
    "print(findKthLargest([1,3,5,7,9,2,4,6,8], 3))"
   ]
  },
  {
   "cell_type": "code",
   "execution_count": 34,
   "metadata": {},
   "outputs": [
    {
     "name": "stdout",
     "output_type": "stream",
     "text": [
      "i = 1 looking at 4\n",
      "nums = [2, 4, 1, 5, 3]\n",
      "tail = 0\n",
      "i = 2 looking at 1\n",
      "nums = [2, 4, 1, 5, 3]\n",
      "tail = 1\n",
      "i = 3 looking at 5\n",
      "nums = [2, 4, 1, 5, 3]\n",
      "tail = 1\n",
      "i = 4 looking at 3\n",
      "nums = [2, 4, 5, 1, 3]\n",
      "tail = 2\n",
      "i = 1 looking at 4\n",
      "nums = [3, 4, 5]\n",
      "tail = 0\n",
      "i = 2 looking at 5\n",
      "nums = [3, 4, 5]\n",
      "tail = 1\n",
      "i = 1 looking at 4\n",
      "nums = [5, 4]\n",
      "tail = 0\n",
      "4\n"
     ]
    }
   ],
   "source": [
    "#Quickselect algorithm\n",
    "#O(n) time, O(1) space (because it just uses space of existing array)\n",
    "\n",
    "def findKthLargest(nums, k):\n",
    "    \n",
    "    #choose first element as pivot\n",
    "    pivot = nums[0]\n",
    "    tail = 0 #tail keeps track of how many numbers you see that are greater than pivot\n",
    "             #Whenever see element largest than pivot, swap it to the end\n",
    "             #At the end, swap pivot (first element) with to tail-th element\n",
    "             #If k happens to be pivot, return pivot\n",
    "             #If k is smaller than k, rerun function with first half of array (nums[tail+1:], k-tail-1)\n",
    "             #Else return second half of array (nums[:tail], k)\n",
    "    \n",
    "    for i in range(1, len(nums)):\n",
    "        print(\"i =\", i, \"looking at\", nums[i])\n",
    "        print(\"nums =\", nums)\n",
    "        print(\"tail =\", tail)\n",
    "        \n",
    "        if nums[i] > pivot:\n",
    "            tail += 1\n",
    "            nums[tail], nums[i] = nums[i], nums[tail] #Swap it to the end\n",
    "\n",
    "    nums[tail], nums[0] = nums[0], nums[tail]\n",
    "\n",
    "    #use tail+1 because tail is array index, kth largest is natural number index\n",
    "    if tail + 1 == k:\n",
    "        return pivot\n",
    "    elif tail + 1 < k:\n",
    "        return findKthLargest(nums[tail+1:], k - tail - 1)\n",
    "    else:\n",
    "        return findKthLargest(nums[:tail], k)  #excluding pivot\n",
    "\n",
    "print(findKthLargest([2,4,1,5,3], 2))"
   ]
  }
 ],
 "metadata": {
  "kernelspec": {
   "display_name": "Python 3",
   "language": "python",
   "name": "python3"
  },
  "language_info": {
   "codemirror_mode": {
    "name": "ipython",
    "version": 3
   },
   "file_extension": ".py",
   "mimetype": "text/x-python",
   "name": "python",
   "nbconvert_exporter": "python",
   "pygments_lexer": "ipython3",
   "version": "3.6.0"
  }
 },
 "nbformat": 4,
 "nbformat_minor": 2
}
