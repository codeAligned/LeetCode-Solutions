{
 "cells": [
  {
   "cell_type": "markdown",
   "metadata": {},
   "source": [
    "## Leetcode 216. Combination Sum III"
   ]
  },
  {
   "cell_type": "raw",
   "metadata": {},
   "source": [
    "Find all possible combinations of k numbers that add up to a number n, given that only numbers from 1 to 9 can be used and each combination should be a unique set of numbers.\n",
    "\n",
    "\n",
    "Example 1:\n",
    "Input: k = 3, n = 7\n",
    "Output: [[1,2,4]]\n",
    "\n",
    "Example 2:\n",
    "Input: k = 3, n = 9\n",
    "Output: [[1,2,6], [1,3,5], [2,3,4]]"
   ]
  },
  {
   "cell_type": "code",
   "execution_count": 32,
   "metadata": {},
   "outputs": [
    {
     "name": "stdout",
     "output_type": "stream",
     "text": [
      "[[1, 2, 4]]\n",
      "[[1, 2, 6], [1, 3, 5], [2, 3, 4]]\n"
     ]
    }
   ],
   "source": [
    "class  Solution(object):  \n",
    "    def  combinationSum3(self , k, n):  \n",
    "        ans=[]  \n",
    "          \n",
    "        def  search(start,cnt,sums,nums):  \n",
    "            if  cnt>k  or  sums>n:  #too many numbers, past bounds\n",
    "                return  \n",
    "            \n",
    "            if  cnt==k  and  sums==n:  #result found\n",
    "                ans.append(nums)  \n",
    "                return  \n",
    "            \n",
    "            for i in range(start+ 1, 10):  #1->9, start = curr position\n",
    "                search(i, cnt+1, sums+i, nums+[i]) \n",
    "                \n",
    "        search(0, 0, 0, [])  \n",
    "        return ans  \n",
    "    \n",
    "s = Solution()\n",
    "print(s.combinationSum3(3,7))\n",
    "print(s.combinationSum3(3,9))\n"
   ]
  },
  {
   "cell_type": "code",
   "execution_count": null,
   "metadata": {
    "collapsed": true
   },
   "outputs": [],
   "source": []
  }
 ],
 "metadata": {
  "kernelspec": {
   "display_name": "Python 3",
   "language": "python",
   "name": "python3"
  },
  "language_info": {
   "codemirror_mode": {
    "name": "ipython",
    "version": 3
   },
   "file_extension": ".py",
   "mimetype": "text/x-python",
   "name": "python",
   "nbconvert_exporter": "python",
   "pygments_lexer": "ipython3",
   "version": "3.6.0"
  }
 },
 "nbformat": 4,
 "nbformat_minor": 2
}
