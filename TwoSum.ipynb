{
 "cells": [
  {
   "cell_type": "markdown",
   "metadata": {},
   "source": [
    "## TwoSum"
   ]
  },
  {
   "cell_type": "raw",
   "metadata": {},
   "source": [
    "Given an array of integers, find two numbers such that they add up to a specific target number.\n",
    "The function twoSum should return indices of the two numbers such that they add up to the target, where index1 must be less than index2.\n",
    "You may assume that each input would have exactly one solution.\n",
    "\n",
    "e.g.\n",
    "Input: numbers={2, 7, 11, 15}, target=9\n",
    "Output: (1,2) (Because numbers[1] + numbers[2] = 9)"
   ]
  },
  {
   "cell_type": "code",
   "execution_count": 6,
   "metadata": {},
   "outputs": [
    {
     "data": {
      "text/plain": [
       "[0, 1]"
      ]
     },
     "execution_count": 6,
     "metadata": {},
     "output_type": "execute_result"
    }
   ],
   "source": [
    "#Brute Force, double for loop O(n^2)\n",
    "\n",
    "def twoSum(nums, target):\n",
    "    for i in range (len(nums)):\n",
    "        for j in range(i+1, len(nums)):\n",
    "            if target - nums[i] == nums[j]:\n",
    "                return [i,j]\n",
    "            \n",
    "arr = [2,7,11,15]\n",
    "target = 9\n",
    "twoSum(arr, target)"
   ]
  },
  {
   "cell_type": "code",
   "execution_count": 8,
   "metadata": {},
   "outputs": [
    {
     "data": {
      "text/plain": [
       "(0, 1)"
      ]
     },
     "execution_count": 8,
     "metadata": {},
     "output_type": "execute_result"
    }
   ],
   "source": [
    "#Using dictionary to store num:index pair. Then go through nums array to check if target-num is in dict. O(n).\n",
    "def twoSum(nums, target):\n",
    "    dic = {} #dictionary stores num:index pair (num, index from nums array)\n",
    "    for i, val in enumerate(nums):\n",
    "        dic[val] = i   #set key to number in nums array, value to index of nums array \n",
    "    for j, val2 in enumerate(nums):\n",
    "        if target - val2 in dic:       #if found target-val2 in dictionary\n",
    "            if j != dic[target-val2]:  #if the 2 do not have the same index\n",
    "                return (j, dic[target-val2])\n",
    "            \n",
    "arr = [2,7,11,15]\n",
    "target = 9\n",
    "twoSum(arr, target)"
   ]
  },
  {
   "cell_type": "code",
   "execution_count": 1,
   "metadata": {},
   "outputs": [
    {
     "data": {
      "text/plain": [
       "(1, 0)"
      ]
     },
     "execution_count": 1,
     "metadata": {},
     "output_type": "execute_result"
    }
   ],
   "source": [
    "#Even more optimized solution. Instead of making dictionary first, return if found pair in dictionary, else add number\n",
    "#that was just checked in the dictionary.\n",
    "\n",
    "def twoSum(nums, target):\n",
    "    dic = {}\n",
    "    for i, val in enumerate(nums):\n",
    "        if target - val in dic:          #if target-val in dictionary, return pair\n",
    "            return (i, dic[target-val])\n",
    "        else:\n",
    "            dic[val] = i                 #if not in dictionary, add this current num,index to dictionary.\n",
    "                \n",
    "            \n",
    "arr = [2,7,11,15]\n",
    "target = 9\n",
    "twoSum(arr, target)"
   ]
  },
  {
   "cell_type": "code",
   "execution_count": null,
   "metadata": {
    "collapsed": true
   },
   "outputs": [],
   "source": []
  }
 ],
 "metadata": {
  "kernelspec": {
   "display_name": "Python 3",
   "language": "python",
   "name": "python3"
  },
  "language_info": {
   "codemirror_mode": {
    "name": "ipython",
    "version": 3
   },
   "file_extension": ".py",
   "mimetype": "text/x-python",
   "name": "python",
   "nbconvert_exporter": "python",
   "pygments_lexer": "ipython3",
   "version": "3.6.0"
  }
 },
 "nbformat": 4,
 "nbformat_minor": 2
}
