{
 "cells": [
  {
   "cell_type": "markdown",
   "metadata": {},
   "source": [
    "## LeetCode 19.  Remove Nth Node From End of List"
   ]
  },
  {
   "cell_type": "code",
   "execution_count": null,
   "metadata": {
    "collapsed": true
   },
   "outputs": [],
   "source": [
    "Given a linked list, remove the nth node from the end of list and return its head.\n",
    "\n",
    "   Given linked list: 1->2->3->4->5, and n = 2.\n",
    "\n",
    "   After removing the second node from the end, the linked list becomes 1->2->3->5."
   ]
  },
  {
   "cell_type": "code",
   "execution_count": null,
   "metadata": {
    "collapsed": true
   },
   "outputs": [],
   "source": [
    "# Definition for singly-linked list.\n",
    "class ListNode(object):\n",
    "    def __init__(self, x):\n",
    "        self.val = x\n",
    "        self.next = None\n",
    "\n",
    "class Solution(object):\n",
    "    def removeNthFromEnd(self, head, n):\n",
    "        #let l = length of list, n = n nodes from end\n",
    "        #want to move a pointer l-n steps (definition of n nodes from end)\n",
    "        #first move f node n steps\n",
    "        #then move f node until the end of the list, and move s node together with it, which will be l-n steps. \n",
    "        dummy = ListNode(0) #create dummy node to easier return, obtain l-n\n",
    "        dummy.next = head\n",
    "        s = f = dummy #slow and fast pointers\n",
    "        \n",
    "        for i in range(0, n): #move f pointer n steps\n",
    "            f = f.next\n",
    "        \n",
    "        #use f.next because started at dummy node (so before 0th index). Want to stop at node before nth node so you can delete it.\n",
    "        while f.next != None: #move s pointer l-n steps\n",
    "            f = f.next\n",
    "            s = s.next\n",
    "        \n",
    "        s.next = s.next.next #remove nth node\n",
    "        return dummy.next\n",
    "\n",
    "lst = ListNode(1)\n",
    "lst.next = ListNode(2)\n",
    "lst.next.next = ListNode(3)\n",
    "lst.next.next.next = ListNode(4)\n",
    "lst.next.next.next.next = ListNode(5)\n",
    "\n",
    "soln = Solution().removeNthFromEnd(lst, 2)\n",
    "while soln != None:\n",
    "    print(soln.val)\n",
    "    soln = soln.next\n"
   ]
  },
  {
   "cell_type": "code",
   "execution_count": null,
   "metadata": {
    "collapsed": true
   },
   "outputs": [],
   "source": []
  }
 ],
 "metadata": {
  "kernelspec": {
   "display_name": "Python 3",
   "language": "python",
   "name": "python3"
  },
  "language_info": {
   "codemirror_mode": {
    "name": "ipython",
    "version": 3
   },
   "file_extension": ".py",
   "mimetype": "text/x-python",
   "name": "python",
   "nbconvert_exporter": "python",
   "pygments_lexer": "ipython3",
   "version": "3.6.0"
  }
 },
 "nbformat": 4,
 "nbformat_minor": 2
}
