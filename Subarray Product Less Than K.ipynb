{
 "cells": [
  {
   "cell_type": "markdown",
   "metadata": {},
   "source": [
    "# Subarray Product Less Than K"
   ]
  },
  {
   "cell_type": "raw",
   "metadata": {},
   "source": [
    "Input: nums = [10, 5, 2, 6], k = 100\n",
    "Output: 8\n",
    "Explanation: The 8 subarrays that have product less than 100 are: [10], [5], [2], [6], [10, 5], [5, 2], [2, 6], [5, 2, 6].\n",
    "Note that [10, 5, 2] is not included as the product of 100 is not strictly less than k.T"
   ]
  },
  {
   "cell_type": "raw",
   "metadata": {},
   "source": [
    "Time complexity: O(n^2).\n",
    "\n",
    "Sliding Window Technique\n",
    "\n",
    "Let’s see how to count the desired amount. Assume, we have a window between start and end, and the product of all elements of it is p < k. Now, let's try to add a new element x. There are two possible cases.\n",
    "\n",
    "Case 1. p*x < k\n",
    "This means we can move the window’s right bound one step further. How many contiguous arrays does this step produce? It is: 1 + (end-start).\n",
    "\n",
    "Indeed, the element itself comprises an array, and also we can add x to all contiguous arrays which have right border at end. There are as many such arrays as the length of the window.\n",
    "\n",
    "Case 2. p*x >= k\n",
    "\n",
    "This means we must first adjust the window’s left border so that the product is again less than k. After that, we can apply the formula from Case 1."
   ]
  },
  {
   "cell_type": "raw",
   "metadata": {},
   "source": [
    "  a = [5, 3, 2]\n",
    "  k = 16\n",
    " \n",
    "  counter = 0\n",
    "  Window: [5]\n",
    "  Product: 5\n",
    "\n",
    "  5 < 16 --> counter += 1+ (0-0)\n",
    "  counter = 1\n",
    "  Window: [5,3]\n",
    "  Product: 15\n",
    "\n",
    "  15 < 16 --> counter += 1 + (1-0)\n",
    "  counter = 3\n",
    "  Window: [5,3,2]\n",
    "  Product: 30\n",
    "\n",
    "  30 > 16 --> Adjust the left border\n",
    "  New Window: [3,2]\n",
    "  New Product: 6\n",
    "\n",
    "  6 < 16 --> counter += 1 + (2-1)\n",
    "  counter = 5\n",
    "  Answer: 5"
   ]
  },
  {
   "cell_type": "code",
   "execution_count": 12,
   "metadata": {},
   "outputs": [
    {
     "name": "stdout",
     "output_type": "stream",
     "text": [
      "8\n",
      "5\n"
     ]
    }
   ],
   "source": [
    "def numSubarrayProductLessThanK(nums, k):\n",
    "\n",
    "    product = 1   #product of all elements in subarray window, initialize as 1\n",
    "    ll = rr = -1  #ll = left bound, rr = right bound\n",
    "    ans = 0       #number of subarrays < k, stored in ans\n",
    "    \n",
    "    for num in nums: #go through nums one number at a time\n",
    "        rr += 1      #shift right bound over for each extra number\n",
    "        product *= num #multiply product by the new number looked at\n",
    "        \n",
    "        while ll + 1 <= rr and product >= k: #if product larger than target\n",
    "            product /= nums[ll + 1] #divide leftmost element from product\n",
    "            ll += 1 #shift left border +1 (removes leftmost element)\n",
    "        ans += rr - ll #add number of possibilities = rr-ll\n",
    "    return ans\n",
    "\n",
    "\n",
    "arr = [10,5,2,6]\n",
    "target = 100\n",
    "print(numSubarrayProductLessThanK(arr, target))\n",
    "\n",
    "arr2 = [5,3,2]\n",
    "target2 = 16\n",
    "print(numSubarrayProductLessThanK(arr2, target2))\n",
    "\n"
   ]
  },
  {
   "cell_type": "code",
   "execution_count": null,
   "metadata": {
    "collapsed": true
   },
   "outputs": [],
   "source": []
  }
 ],
 "metadata": {
  "kernelspec": {
   "display_name": "Python 3",
   "language": "python",
   "name": "python3"
  },
  "language_info": {
   "codemirror_mode": {
    "name": "ipython",
    "version": 3
   },
   "file_extension": ".py",
   "mimetype": "text/x-python",
   "name": "python",
   "nbconvert_exporter": "python",
   "pygments_lexer": "ipython3",
   "version": "3.6.0"
  }
 },
 "nbformat": 4,
 "nbformat_minor": 2
}
