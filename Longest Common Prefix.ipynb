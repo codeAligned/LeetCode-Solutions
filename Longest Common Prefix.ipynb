{
 "cells": [
  {
   "cell_type": "markdown",
   "metadata": {},
   "source": [
    "# Longest Common Prefix"
   ]
  },
  {
   "cell_type": "code",
   "execution_count": 12,
   "metadata": {},
   "outputs": [
    {
     "name": "stdout",
     "output_type": "stream",
     "text": [
      "he\n",
      "hea\n",
      "hell\n"
     ]
    }
   ],
   "source": [
    "def longestCommonPrefix(strs): #pass in array of strings\n",
    "    if not strs: #if array empty, return \"\"\n",
    "        return \"\"\n",
    "    \n",
    "    firststr = strs[0]\n",
    "    for i in range(len(firststr)): #loop through each letter in first string (\"h->e->l->l->o\")\n",
    "        for otherString in strs[1:]:   #loop through each of the other strings (\"heaven\"->\"heavy\")\n",
    "            if i >= len(otherString) or otherString[i] != firststr[i]: #if i exceeds length or see mismatched character\n",
    "                return firststr[:i]  #return string truncated at ith index\n",
    "    return strs[0] #else return entire first string\n",
    "\n",
    "\n",
    "print (longestCommonPrefix([\"hello\", \"heaven\", \"heavy\"]))\n",
    "print (longestCommonPrefix([\"heallo\", \"heaven\", \"heavy\"]))\n",
    "print (longestCommonPrefix([\"hello\", \"hell\", \"hellomoto\"]))"
   ]
  },
  {
   "cell_type": "code",
   "execution_count": null,
   "metadata": {
    "collapsed": true
   },
   "outputs": [],
   "source": []
  }
 ],
 "metadata": {
  "kernelspec": {
   "display_name": "Python 3",
   "language": "python",
   "name": "python3"
  },
  "language_info": {
   "codemirror_mode": {
    "name": "ipython",
    "version": 3
   },
   "file_extension": ".py",
   "mimetype": "text/x-python",
   "name": "python",
   "nbconvert_exporter": "python",
   "pygments_lexer": "ipython3",
   "version": "3.6.0"
  }
 },
 "nbformat": 4,
 "nbformat_minor": 2
}
