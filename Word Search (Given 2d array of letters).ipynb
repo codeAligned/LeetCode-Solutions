{
 "cells": [
  {
   "cell_type": "markdown",
   "metadata": {},
   "source": [
    "## Leetcode 79. Word Search"
   ]
  },
  {
   "cell_type": "code",
   "execution_count": 6,
   "metadata": {},
   "outputs": [
    {
     "name": "stdout",
     "output_type": "stream",
     "text": [
      "True\n",
      "False\n",
      "False\n"
     ]
    }
   ],
   "source": [
    "def exist(board, word):\n",
    "    if not board:\n",
    "        return False\n",
    "    for i in range(len(board)):\n",
    "        for j in range(len(board[0])):\n",
    "            if dfs(board, i, j, word):\n",
    "                return True\n",
    "    return False\n",
    "\n",
    "# check whether can find word, start at (i,j) position    \n",
    "def dfs(board, i, j, word):\n",
    "    #preliminary checks if word null or i,j out of range\n",
    "    if len(word) == 0: #base case: all the characters are found and word is reduced to nothing\n",
    "        return True\n",
    "    if i<0 or i>=len(board) or j<0 or j>=len(board[0]) or word[0]!=board[i][j]: #check if word[0] = curr board tile\n",
    "        return False\n",
    "    \n",
    "    tmp = board[i][j]  # first character is found, check the remaining part\n",
    "    board[i][j] = \"#\"  # avoid visit again \n",
    "    \n",
    "    # check whether can find \"word\" along one direction\n",
    "    res = dfs(board, i+1, j, word[1:]) or dfs(board, i-1, j, word[1:]) \\\n",
    "    or dfs(board, i, j+1, word[1:]) or dfs(board, i, j-1, word[1:])\n",
    "    \n",
    "    board[i][j] = tmp #restore board\n",
    "    return res\n",
    "\n",
    "\n",
    "board = [\n",
    "  ['A','B','C','E'],\n",
    "  ['S','F','C','S'],\n",
    "  ['A','D','E','E']\n",
    "]\n",
    "\n",
    "print(exist(board, \"SEE\")) #true\n",
    "print(exist(board, \"ABCESEEDAS\")) #true\n",
    "print(exist(board, \"ABCD\")) #false"
   ]
  },
  {
   "cell_type": "code",
   "execution_count": null,
   "metadata": {
    "collapsed": true
   },
   "outputs": [],
   "source": []
  }
 ],
 "metadata": {
  "kernelspec": {
   "display_name": "Python 3",
   "language": "python",
   "name": "python3"
  },
  "language_info": {
   "codemirror_mode": {
    "name": "ipython",
    "version": 3
   },
   "file_extension": ".py",
   "mimetype": "text/x-python",
   "name": "python",
   "nbconvert_exporter": "python",
   "pygments_lexer": "ipython3",
   "version": "3.6.0"
  }
 },
 "nbformat": 4,
 "nbformat_minor": 2
}
