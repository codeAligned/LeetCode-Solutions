{
 "cells": [
  {
   "cell_type": "markdown",
   "metadata": {},
   "source": [
    "# Leetcode - Populating Next Right Pointers in Each Node II"
   ]
  },
  {
   "cell_type": "raw",
   "metadata": {},
   "source": [
    "         1 -> NULL\n",
    "       /  \\\n",
    "      2 -> 3 -> NULL\n",
    "     / \\    \\\n",
    "    4-> 5 -> 7 -> NULL\n",
    "\n",
    "#Can also use level order traversal to solve"
   ]
  },
  {
   "cell_type": "code",
   "execution_count": 21,
   "metadata": {},
   "outputs": [
    {
     "name": "stdout",
     "output_type": "stream",
     "text": [
      "1\n",
      "None\n",
      "2\n",
      "3\n",
      "None\n",
      "4\n",
      "5\n",
      "7\n",
      "None\n"
     ]
    }
   ],
   "source": [
    "\n",
    "# Definition for binary tree with next pointer.\n",
    "class TreeLinkNode(object):\n",
    "    def __init__(self, x):\n",
    "        self.val = x\n",
    "        self.left = None\n",
    "        self.right = None\n",
    "        self.next = None\n",
    "\n",
    "\n",
    "def connect(node):\n",
    "    tail = dummy = TreeLinkNode(0)\n",
    "    while node:\n",
    "        tail.next = node.left\n",
    "        if tail.next:\n",
    "            tail = tail.next\n",
    "        tail.next = node.right\n",
    "        if tail.next:\n",
    "            tail = tail.next\n",
    "        node = node.next\n",
    "        if not node:\n",
    "            tail = dummy\n",
    "            node = dummy.next\n",
    "            \n",
    "root = TreeLinkNode(1)\n",
    "root.left = TreeLinkNode(2)\n",
    "root.right = TreeLinkNode(3)\n",
    "root.left.left = TreeLinkNode(4)\n",
    "root.left.right = TreeLinkNode(5)\n",
    "root.right.right = TreeLinkNode(7)\n",
    "\n",
    "connect(root)\n",
    "#1st layer\n",
    "print(root.val)\n",
    "print(root.next)\n",
    "#2nd layer\n",
    "print(root.left.val)\n",
    "print(root.left.next.val)\n",
    "print(root.left.next.next)\n",
    "#3rd layer\n",
    "print(root.left.left.val)\n",
    "print(root.left.left.next.val)\n",
    "print(root.left.left.next.next.val)\n",
    "print(root.left.left.next.next.next)"
   ]
  },
  {
   "cell_type": "code",
   "execution_count": null,
   "metadata": {
    "collapsed": true
   },
   "outputs": [],
   "source": []
  }
 ],
 "metadata": {
  "kernelspec": {
   "display_name": "Python 3",
   "language": "python",
   "name": "python3"
  },
  "language_info": {
   "codemirror_mode": {
    "name": "ipython",
    "version": 3
   },
   "file_extension": ".py",
   "mimetype": "text/x-python",
   "name": "python",
   "nbconvert_exporter": "python",
   "pygments_lexer": "ipython3",
   "version": "3.6.0"
  }
 },
 "nbformat": 4,
 "nbformat_minor": 2
}
