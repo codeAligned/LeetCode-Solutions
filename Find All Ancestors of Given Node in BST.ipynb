{
 "cells": [
  {
   "cell_type": "markdown",
   "metadata": {},
   "source": [
    "# Find All Ancestors of Given Node in Binary Search Tree"
   ]
  },
  {
   "cell_type": "code",
   "execution_count": 5,
   "metadata": {},
   "outputs": [
    {
     "name": "stdout",
     "output_type": "stream",
     "text": [
      "[4, 2, 1]\n"
     ]
    }
   ],
   "source": [
    "class Node:\n",
    "\n",
    "    def __init__(self, data):\n",
    "        self.data = data \n",
    "        self.left = None\n",
    "        self.right = None\n",
    "\n",
    "        \n",
    "def printAncestors(root, target, arr):\n",
    "    #base case\n",
    "    if root == None:\n",
    "        return False\n",
    "    \n",
    "    #base case 2: if found data, return True, go back upwards\n",
    "    if root.data == target:\n",
    "        return True\n",
    " \n",
    "    # If target is present in either left or right subtree \n",
    "    # of this node, then add this node to arr\n",
    "    if (printAncestors(root.left, target, arr) or printAncestors(root.right, target, arr)):\n",
    "        arr.append(root.data)\n",
    "        return True\n",
    " \n",
    "    # Else return False \n",
    "    return False\n",
    "\n",
    " \n",
    "# Driver program to test above function\n",
    "root = Node(1)\n",
    "root.left = Node(2)\n",
    "root.right = Node(3)\n",
    "root.left.left = Node(4)\n",
    "root.left.right = Node(5)\n",
    "root.left.left.left = Node(6)\n",
    "\n",
    "#               1\n",
    "#             /  \\\n",
    "#           2     3\n",
    "#         /  \\\n",
    "#       4     5\n",
    "#      /\n",
    "#     6\n",
    "\n",
    "storearr = []\n",
    "printAncestors(root, 6, storearr)\n",
    "print(storearr)"
   ]
  },
  {
   "cell_type": "code",
   "execution_count": null,
   "metadata": {
    "collapsed": true
   },
   "outputs": [],
   "source": []
  }
 ],
 "metadata": {
  "kernelspec": {
   "display_name": "Python 3",
   "language": "python",
   "name": "python3"
  },
  "language_info": {
   "codemirror_mode": {
    "name": "ipython",
    "version": 3
   },
   "file_extension": ".py",
   "mimetype": "text/x-python",
   "name": "python",
   "nbconvert_exporter": "python",
   "pygments_lexer": "ipython3",
   "version": "3.6.0"
  }
 },
 "nbformat": 4,
 "nbformat_minor": 2
}
