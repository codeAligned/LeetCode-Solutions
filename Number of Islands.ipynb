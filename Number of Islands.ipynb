{
 "cells": [
  {
   "cell_type": "markdown",
   "metadata": {},
   "source": [
    "## Leetcode 200. Number of Islands"
   ]
  },
  {
   "cell_type": "code",
   "execution_count": 1,
   "metadata": {},
   "outputs": [
    {
     "data": {
      "text/plain": [
       "6"
      ]
     },
     "execution_count": 1,
     "metadata": {},
     "output_type": "execute_result"
    }
   ],
   "source": [
    "#DFS Solution\n",
    "#O(row*col)time, O(1) space\n",
    "\n",
    "class Solution:\n",
    "    def numIslands(self, grid):\n",
    "        numrows, numcols = len(grid), len(grid[0])\n",
    "        if numrows == 0 or numcols == 0:\n",
    "            return 0\n",
    "        \n",
    "        #loop through map, if see element with 1, Call DFS on it.\n",
    "        #DFS will change all traversed elements to 0 (water) so will not repeat\n",
    "        #Every time we call DFS (aka see a new island) islands count +=1\n",
    "        islands = 0\n",
    "        for i in range(numrows):\n",
    "            for j in range(numcols):\n",
    "                if grid[i][j] == 1:\n",
    "                    self.DFS(i, j, grid)\n",
    "                    islands += 1\n",
    "        return islands\n",
    "    \n",
    "\n",
    "    def DFS(self, i, j, grid):\n",
    "        grid[i][j] = 0\n",
    "        if i+1 < len(grid) and grid[i+1][j] == 1:\n",
    "            self.DFS(i+1, j, grid)\n",
    "            \n",
    "        if j + 1 < len(grid[0]) and grid[i][j + 1] == 1:\n",
    "            self.DFS(i, j + 1, grid)\n",
    "            \n",
    "        if i - 1 >= 0 and grid[i - 1][j] == 1:\n",
    "            self.DFS(i - 1, j, grid)\n",
    "        \n",
    "        if j - 1 >= 0 and grid[i][j - 1] == 1:\n",
    "            self.DFS(i, j - 1, grid)\n",
    "\n",
    "\n",
    "map = [[1, 1, 0, 0, 0],\n",
    "       [0, 1, 0, 0, 1],\n",
    "       [1, 0, 0, 1, 1],\n",
    "       [0, 0, 0, 0, 0],\n",
    "       [1, 0, 1, 0, 1]]\n",
    "s = Solution()\n",
    "s.numIslands(map)"
   ]
  },
  {
   "cell_type": "code",
   "execution_count": 34,
   "metadata": {},
   "outputs": [
    {
     "data": {
      "text/plain": [
       "6"
      ]
     },
     "execution_count": 34,
     "metadata": {},
     "output_type": "execute_result"
    }
   ],
   "source": [
    "#BFS Solution\n",
    "#O(row*col)time, O(1) space\n",
    "\n",
    "class Solution:\n",
    "    def numIslands(self, grid):\n",
    "        numrows, numcols = len(grid), len(grid[0])\n",
    "        if numrows == 0 or numcols == 0:\n",
    "            return 0\n",
    "        \n",
    "        islands = 0\n",
    "        queue = []\n",
    "        for i in range(numrows):\n",
    "            for j in range(numcols):\n",
    "                if grid[i][j] == 1:\n",
    "                    islands += 1\n",
    "                    queue.append((i, j))\n",
    "                                \n",
    "                    while queue:\n",
    "                        (i, j) = queue.pop()\n",
    "                        grid[i][j] = 0\n",
    "                        if i+1 < numrows and grid[i+1][j] == 1:\n",
    "                            queue.append((i+1, j))\n",
    "                        if j+1 < numcols and grid[i][j+1] == 1:\n",
    "                            queue.append((i, j+1))\n",
    "                        if i-1 > 0 and grid[i-1][j] == 1:\n",
    "                            queue.append((i-1, j))\n",
    "                        if j-1 > 0 and grid[i][j-1] == 1:\n",
    "                            queue.append((i, j-1))\n",
    "\n",
    "        return islands\n",
    "             \n",
    "                    \n",
    "map = [[1, 1, 0, 0, 0],\n",
    "       [0, 1, 0, 0, 1],\n",
    "       [1, 0, 0, 1, 1],\n",
    "       [0, 0, 0, 0, 0],\n",
    "       [1, 0, 1, 0, 1]]\n",
    "s = Solution()\n",
    "s.numIslands(map)"
   ]
  },
  {
   "cell_type": "code",
   "execution_count": null,
   "metadata": {
    "collapsed": true
   },
   "outputs": [],
   "source": []
  }
 ],
 "metadata": {
  "kernelspec": {
   "display_name": "Python 3",
   "language": "python",
   "name": "python3"
  },
  "language_info": {
   "codemirror_mode": {
    "name": "ipython",
    "version": 3
   },
   "file_extension": ".py",
   "mimetype": "text/x-python",
   "name": "python",
   "nbconvert_exporter": "python",
   "pygments_lexer": "ipython3",
   "version": "3.6.0"
  }
 },
 "nbformat": 4,
 "nbformat_minor": 2
}
