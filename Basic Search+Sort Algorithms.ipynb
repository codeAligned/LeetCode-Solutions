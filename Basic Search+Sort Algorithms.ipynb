{
 "cells": [
  {
   "cell_type": "markdown",
   "metadata": {},
   "source": [
    "# Bubblesort"
   ]
  },
  {
   "cell_type": "code",
   "execution_count": 5,
   "metadata": {},
   "outputs": [
    {
     "name": "stdout",
     "output_type": "stream",
     "text": [
      "[1, 2, 3, 4, 5, 6, 7, 8, 9]\n"
     ]
    }
   ],
   "source": [
    "def bubbleSort(A):\n",
    "    for i in range(len(A)): #n passes through list\n",
    "        for j in range (len(A)-1-i): #go through 1 less element every time 10,9,8,...3,2,1\n",
    "            if A[j] > A[j+1]: #if 1 element greater than the other, keep bubbling it up\n",
    "                A[j], A[j+1] = A[j+1], A[j]\n",
    "\n",
    "alist = [9, 6, 2, 4, 3, 1, 7, 5, 8]\n",
    "bubbleSort(alist)\n",
    "print(alist)"
   ]
  },
  {
   "cell_type": "markdown",
   "metadata": {},
   "source": [
    "# Heapsort"
   ]
  },
  {
   "cell_type": "code",
   "execution_count": 4,
   "metadata": {},
   "outputs": [
    {
     "name": "stdout",
     "output_type": "stream",
     "text": [
      "[1, 2, 3, 4, 5, 6, 7, 8, 9]\n"
     ]
    }
   ],
   "source": [
    "import heapq\n",
    "def heapSort(items):\n",
    "    heapq.heapify(items)\n",
    "    items[:] = [heapq.heappop(items) for i in range(len(items))]\n",
    "\n",
    "alist = [9, 6, 2, 4, 3, 1, 7, 5, 8]\n",
    "heapSort(alist)\n",
    "print(alist)    "
   ]
  },
  {
   "cell_type": "markdown",
   "metadata": {},
   "source": [
    "# Mergesort"
   ]
  },
  {
   "cell_type": "code",
   "execution_count": 5,
   "metadata": {},
   "outputs": [
    {
     "name": "stdout",
     "output_type": "stream",
     "text": [
      "Splitting  [9, 6, 2, 4, 3, 1, 7, 5, 8]\n",
      "Splitting  [9, 6, 2, 4]\n",
      "Splitting  [9, 6]\n",
      "Splitting  [9]\n",
      "Merging  [9]\n",
      "Splitting  [6]\n",
      "Merging  [6]\n",
      "Merging  [6, 9]\n",
      "Splitting  [2, 4]\n",
      "Splitting  [2]\n",
      "Merging  [2]\n",
      "Splitting  [4]\n",
      "Merging  [4]\n",
      "Merging  [2, 4]\n",
      "Merging  [2, 4, 6, 9]\n",
      "Splitting  [3, 1, 7, 5, 8]\n",
      "Splitting  [3, 1]\n",
      "Splitting  [3]\n",
      "Merging  [3]\n",
      "Splitting  [1]\n",
      "Merging  [1]\n",
      "Merging  [1, 3]\n",
      "Splitting  [7, 5, 8]\n",
      "Splitting  [7]\n",
      "Merging  [7]\n",
      "Splitting  [5, 8]\n",
      "Splitting  [5]\n",
      "Merging  [5]\n",
      "Splitting  [8]\n",
      "Merging  [8]\n",
      "Merging  [5, 8]\n",
      "Merging  [5, 7, 8]\n",
      "Merging  [1, 3, 5, 7, 8]\n",
      "Merging  [1, 2, 3, 4, 5, 6, 7, 8, 9]\n",
      "[1, 2, 3, 4, 5, 6, 7, 8, 9]\n"
     ]
    }
   ],
   "source": [
    "def mergeSort(alist):\n",
    "    print(\"Splitting \",alist)\n",
    "    if len(alist)>1: #if list length > 1 (base case, will stop splitting and start merging when all elements size 1)\n",
    "        mid = len(alist)//2 #split in the middle & round\n",
    "        lefthalf = alist[:mid] #create new lists of left half and right half\n",
    "        righthalf = alist[mid:]\n",
    "\n",
    "        #call mergesort on left and right halves\n",
    "        #first call on the 2 halves splits array again, then again, until all elements size 1.\n",
    "        #then goes on to merge part which sorts while doing so. Where the heavy lifting is (below).\n",
    "        mergeSort(lefthalf) \n",
    "        mergeSort(righthalf)\n",
    "\n",
    "        #index i for left half, index j for right half, index k for entire array\n",
    "        i, j, k = 0, 0, 0\n",
    "        \n",
    "        #1. k traverses entire array\n",
    "        #2. if arr[i] < arr[j], add arr[i] to alist at index k and increment i. Also increment k.\n",
    "        #3. conversely, if arr[j] < arr[i], then add arr[j] to alist at index k. Also increment j and k.\n",
    "        \n",
    "        while i < len(lefthalf) and j < len(righthalf): \n",
    "            if lefthalf[i] < righthalf[j]:\n",
    "                alist[k]=lefthalf[i]\n",
    "                i=i+1\n",
    "            else:\n",
    "                alist[k]=righthalf[j]\n",
    "                j=j+1\n",
    "            k=k+1\n",
    "        \n",
    "        #4. Either lefthalf or righthalf has been depleted. Now append the rest of the numbers from the half\n",
    "        #that still has numbers to the end of alist.\n",
    "        \n",
    "        while i < len(lefthalf):\n",
    "            alist[k]=lefthalf[i]\n",
    "            i=i+1\n",
    "            k=k+1\n",
    "\n",
    "        while j < len(righthalf):\n",
    "            alist[k]=righthalf[j]\n",
    "            j=j+1\n",
    "            k=k+1\n",
    "    print(\"Merging \",alist)\n",
    "\n",
    "alist = [9, 6, 2, 4, 3, 1, 7, 5, 8]\n",
    "mergeSort(alist)\n",
    "print(alist)"
   ]
  },
  {
   "cell_type": "markdown",
   "metadata": {},
   "source": [
    "# Quicksort"
   ]
  },
  {
   "cell_type": "code",
   "execution_count": 15,
   "metadata": {},
   "outputs": [
    {
     "name": "stdout",
     "output_type": "stream",
     "text": [
      "pivot selected:  7\n",
      "list after each pass: [7, 5, 2, 1, 4, 6, 3, 8, 9]\n",
      "pivot selected:  3\n",
      "list after each pass: [3, 1, 2, 5, 4, 6, 7, 8, 9]\n",
      "pivot selected:  2\n",
      "list after each pass: [2, 1, 3, 5, 4, 6, 7, 8, 9]\n",
      "pivot selected:  5\n",
      "list after each pass: [1, 2, 3, 5, 4, 6, 7, 8, 9]\n",
      "pivot selected:  8\n",
      "list after each pass: [1, 2, 3, 4, 5, 6, 7, 8, 9]\n",
      "[1, 2, 3, 4, 5, 6, 7, 8, 9]\n"
     ]
    }
   ],
   "source": [
    "def quickSort(alist):\n",
    "    quickSortHelper(alist, 0, len(alist)-1)\n",
    "\n",
    "#define helper function which takes list, first index, last index.\n",
    "def quickSortHelper(alist,first,last):\n",
    "    if first<last: #when first == last, list sorted\n",
    "\n",
    "        splitpoint = partition(alist,first,last)\n",
    "\n",
    "        #call quicksort helper recursively on (first, mid-1) and (mid+1, last)\n",
    "        quickSortHelper(alist, first, splitpoint-1)\n",
    "        quickSortHelper(alist, splitpoint+1, last)\n",
    "\n",
    "\n",
    "def partition(alist,first,last):\n",
    "    pivotvalue = alist[first] #arbitrarily take first in array as pivot. Can also randomly sample 3 and take middle one.\n",
    "    print(\"pivot selected: \", pivotvalue)\n",
    "    \n",
    "    #redeclare left/right index\n",
    "    #2 left and right indices that start from both ends and close in on each other\n",
    "    #sort ends when the 2 indices collide\n",
    "    leftmark = first+1\n",
    "    rightmark = last\n",
    "\n",
    "    done = False #set done = True only when left > right\n",
    "    while not done:\n",
    "\n",
    "        #2 indcices not met yet (search not ended)\n",
    "        #and if alist[leftmark] is <= pivot (it belongs on the left, less than mid pivot)\n",
    "        #then continue, increment leftmark to next index\n",
    "        #while loop will stop when leftmark is at a number that belongs on the right (when alist[left] > pivot)\n",
    "        while leftmark <= rightmark and alist[leftmark] <= pivotvalue:\n",
    "            leftmark = leftmark + 1\n",
    "\n",
    "        #while right > left, alist[right] > pivot, continue, rightmark -=1.\n",
    "        while alist[rightmark] >= pivotvalue and rightmark >= leftmark:\n",
    "            rightmark = rightmark -1\n",
    "\n",
    "        #case where 2 left/right indices meet, search is done.\n",
    "        if rightmark < leftmark:\n",
    "            done = True\n",
    "        \n",
    "        #first 2 cases were when number was on right side\n",
    "        #if number is on wrong side, then switch with another number on the wrong side\n",
    "        #first 2 cases will stop leftmark and rightmark at indices where number is on wrong side\n",
    "        else:\n",
    "            #simply swaps elements in list\n",
    "            temp = alist[leftmark]\n",
    "            alist[leftmark] = alist[rightmark]\n",
    "            alist[rightmark] = temp\n",
    "\n",
    "    print(\"list after each pass:\", alist)\n",
    "    #swap pivot (which was at first) with the index where the search ended (which is where pivot should be)\n",
    "    #after this pass pivot will always be at its correct position\n",
    "    #the random number swapped to the beginning now becomes the next pivot.\n",
    "    #note this may not be beginning of entire list (could be beginning of partitioned list)\n",
    "    temp = alist[first]\n",
    "    alist[first] = alist[rightmark]\n",
    "    alist[rightmark] = temp\n",
    "\n",
    "\n",
    "\n",
    "    return rightmark\n",
    "\n",
    "alist = [7, 5, 2, 1, 9, 6, 8, 3, 4]\n",
    "quickSort(alist)\n",
    "print(alist)\n"
   ]
  },
  {
   "cell_type": "markdown",
   "metadata": {},
   "source": [
    "# Binary Search"
   ]
  },
  {
   "cell_type": "code",
   "execution_count": 27,
   "metadata": {},
   "outputs": [
    {
     "name": "stdout",
     "output_type": "stream",
     "text": [
      "looking for item:  32\n",
      "list after each pass: [0, 1, 2, 8, 13, 17, 19, 32, 42]\n",
      "list after each pass: [17, 19, 32, 42]\n",
      "list after each pass: [32, 42]\n",
      "found at index:  7\n",
      "looking for item:  3\n",
      "list after each pass: [0, 1, 2, 8, 13, 17, 19, 32, 42]\n",
      "list after each pass: [0, 1, 2, 8]\n",
      "list after each pass: [2, 8]\n",
      "list after each pass: [8]\n",
      "found at index:  -1\n",
      "looking for item:  13\n",
      "list after each pass: [0, 1, 2, 8, 13, 17, 19, 32, 42]\n",
      "found at index:  4\n"
     ]
    }
   ],
   "source": [
    "def binarySearch(alist, item):\n",
    "#Binary search requires sorted list. (O(logn) to search with quicksort/mergesort)\n",
    "    \n",
    "    #declare index of first/last item\n",
    "    first = 0\n",
    "    last = len(alist)-1\n",
    "    found = False\n",
    "    itemIndex = -1\n",
    "    print(\"looking for item: \", item)\n",
    "\n",
    "    #start with first/last index, divide list in half\n",
    "    #if desired item > number at half, then move index of first to half. Otherwise, move index of last to half.\n",
    "    #while first and last index does not collide:\n",
    "    while first<=last and not found:\n",
    "        print(\"list after each pass:\", alist[first:last+1])\n",
    "        midpoint = (first + last)//2\n",
    "        if alist[midpoint] == item: #if midpoint happens to be item\n",
    "            itemIndex = midpoint\n",
    "            found = True\n",
    "        else:\n",
    "            if item < alist[midpoint]: #else, if item < num at midpoint, make last = midpoint-1\n",
    "                last = midpoint-1\n",
    "            else: #if item > num at midpoint, make first = midpoint + 1\n",
    "                first = midpoint+1 \n",
    "        \n",
    "    #while loop divides list multiple times until item is found\n",
    "    \n",
    "    if found == False: return -1\n",
    "    else: return itemIndex\n",
    "\n",
    "testlist = [0, 1, 2, 8, 13, 17, 19, 32, 42,]\n",
    "print(\"found at index: \", binarySearch(testlist, 32))\n",
    "print(\"found at index: \", binarySearch(testlist, 3))\n",
    "print(\"found at index: \", binarySearch(testlist, 13))\n"
   ]
  },
  {
   "cell_type": "markdown",
   "metadata": {},
   "source": [
    "# BFS"
   ]
  },
  {
   "cell_type": "markdown",
   "metadata": {
    "collapsed": true
   },
   "source": [
    "<img src=\"bfs.png\">"
   ]
  },
  {
   "cell_type": "code",
   "execution_count": 60,
   "metadata": {},
   "outputs": [
    {
     "name": "stdout",
     "output_type": "stream",
     "text": [
      "visiting 0\n",
      "visiting 1\n",
      "visiting 4\n",
      "visiting 5\n",
      "visiting 2\n",
      "visiting 6\n",
      "path traversed: [0, 1, 5, 6]\n",
      "visited array: {0: True, 1: True, 2: True, 3: True, 4: True, 5: True, 6: True, 7: False}\n",
      "parents: {0: None, 1: 0, 2: 4, 3: 2, 4: 1, 5: 1, 6: 5, 7: None}\n",
      "remaining in queue: [3]\n"
     ]
    }
   ],
   "source": [
    "#This algorithm just prints the path used by BFS to find target node\n",
    "#Not part of BFS Algorithm\n",
    "def backtrace(parent, start, end): #takes in parent dict, start/end nodes\n",
    "    path = [end]\n",
    "    while path[-1] != start:\n",
    "        path.append(parent[path[-1]])\n",
    "    path.reverse()\n",
    "    return path\n",
    "\n",
    "#Actual BFS Algorithm\n",
    "def BFS(graph, source, target): #source = start node, target = end node\n",
    "    queue = [] #BFS USES QUEUE\n",
    "    visited = {}\n",
    "    parent = {}\n",
    "    \n",
    "    #create list that holds visited(true/false) for all nodes and parent(list) for all nodes\n",
    "    #declare these as false, None\n",
    "    for node in range(len(graph)):\n",
    "        visited[node] = False\n",
    "        parent[node] = None\n",
    "    \n",
    "    #append starting node (=source)\n",
    "    queue.append(source)\n",
    "    while len(queue) != 0: #when queue empty end search (Reached end w/o finding result)\n",
    "        current = queue.pop(0)\n",
    "        visited[current] = True\n",
    "        print(\"visiting\", current)\n",
    "        if current == target: #found target node\n",
    "            print (\"path traversed:\", backtrace(parent, source, target)) #backtrace algorithm only to print path\n",
    "            break\n",
    "        for neighbor in graph[current]:\n",
    "            if visited[neighbor] == False: #Add all unvisited neighbors to queue\n",
    "                visited[neighbor] = True\n",
    "                parent[neighbor] = current #& set parent of neighbors to current node\n",
    "                queue.append(neighbor)\n",
    "    print (\"visited array:\", visited)\n",
    "    print (\"parents:\", parent)\n",
    "    print (\"remaining in queue:\", queue)\n",
    "        \n",
    "    \n",
    "adjList = [\n",
    "    [1],       #0 \n",
    "    [0, 4, 5], #1 \n",
    "    [3, 4, 5], #2 \n",
    "    [2, 6],    #3 \n",
    "    [1, 2],    #4 \n",
    "    [1, 2, 6], #5 \n",
    "    [3, 5],    #6 \n",
    "    []         #7 \n",
    "    ];\n",
    "\"\"\"\n",
    "What graph looks like:\n",
    "\n",
    "       /- 4 -\\           7\n",
    "0 -- 1        2----\\\n",
    "       \\- 5 -/      \\\n",
    "           \\---------6\n",
    "\"\"\"\n",
    "\n",
    "\n",
    "BFS(adjList, 0, 6)"
   ]
  },
  {
   "cell_type": "markdown",
   "metadata": {},
   "source": [
    "# DFS"
   ]
  },
  {
   "cell_type": "markdown",
   "metadata": {
    "collapsed": true
   },
   "source": [
    "<img src=\"dfs.png\">"
   ]
  },
  {
   "cell_type": "code",
   "execution_count": null,
   "metadata": {
    "collapsed": true
   },
   "outputs": [],
   "source": [
    "DFS Algorithm to be included"
   ]
  },
  {
   "cell_type": "markdown",
   "metadata": {
    "collapsed": true
   },
   "source": [
    "# Simple BFS/DFS Without Specified Target Node"
   ]
  },
  {
   "cell_type": "code",
   "execution_count": 71,
   "metadata": {},
   "outputs": [
    {
     "name": "stdout",
     "output_type": "stream",
     "text": [
      "recursive dfs  ['A', 'B', 'D', 'E', 'C']\n",
      "iterative dfs  ['A', 'B', 'D', 'E', 'C']\n",
      "iterative bfs  ['D', 'E', 'A', 'B', 'C']\n"
     ]
    }
   ],
   "source": [
    "def iterative_bfs(graph, start, path=[]):\n",
    "\n",
    "  q=[start]\n",
    "  while q:\n",
    "    v=q.pop(0)\n",
    "    if not v in path:\n",
    "      path=path+[v]\n",
    "      q=q+graph[v]\n",
    "  return path\n",
    "\n",
    "def iterative_dfs(graph, start, path=[]):\n",
    "\n",
    "  q=[start]\n",
    "  while q:\n",
    "    v=q.pop(0)\n",
    "    if v not in path:\n",
    "      path=path+[v]\n",
    "      q=graph[v]+q\n",
    "  return path\n",
    "\n",
    "\n",
    "def recursive_dfs(graph, start, path=[]):\n",
    "\n",
    "  path=path+[start]\n",
    "  for node in graph[start]:\n",
    "    if not node in path:\n",
    "      path=recursive_dfs(graph, node, path)\n",
    "  return path\n",
    "\n",
    "\"\"\"\n",
    "   +---- A\n",
    "   |   /   \\\n",
    "   |  B--D--C\n",
    "   |   \\ | /\n",
    "   +---- E\n",
    "\"\"\"\n",
    "graph = {'A':['B','C'],'B':['D','E'],'C':['D','E'],'D':['E'],'E':['A']}\n",
    "\n",
    "print ('iterative bfs ', iterative_bfs(graph, 'D'))\n",
    "print ('iterative dfs ', iterative_dfs(graph, 'A'))\n",
    "print ('recursive dfs ', recursive_dfs(graph, 'A'))\n"
   ]
  },
  {
   "cell_type": "code",
   "execution_count": null,
   "metadata": {
    "collapsed": true
   },
   "outputs": [],
   "source": []
  }
 ],
 "metadata": {
  "kernelspec": {
   "display_name": "Python 3",
   "language": "python",
   "name": "python3"
  },
  "language_info": {
   "codemirror_mode": {
    "name": "ipython",
    "version": 3
   },
   "file_extension": ".py",
   "mimetype": "text/x-python",
   "name": "python",
   "nbconvert_exporter": "python",
   "pygments_lexer": "ipython3",
   "version": "3.6.0"
  }
 },
 "nbformat": 4,
 "nbformat_minor": 2
}
