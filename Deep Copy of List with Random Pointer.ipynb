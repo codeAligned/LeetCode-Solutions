{
 "cells": [
  {
   "cell_type": "markdown",
   "metadata": {},
   "source": [
    "## Leetcode 138. Copy List with Random Pointer\n"
   ]
  },
  {
   "cell_type": "raw",
   "metadata": {},
   "source": [
    "#Bloomberg\n",
    "\n",
    "A linked list is given such that each node contains an additional random pointer which could point to any node in the list or null.\n",
    "\n",
    "Return a deep copy of the list."
   ]
  },
  {
   "cell_type": "raw",
   "metadata": {},
   "source": [
    "1) First create map of original node -> new Node(same data as original)\n",
    "    basically make deep copy of every node in list\n",
    "2) Next copy all random pointers. Instead of pointing to a node in the original list, go into the map, find the value of map[id(Node)] and then point new node to that node instead."
   ]
  },
  {
   "cell_type": "code",
   "execution_count": 10,
   "metadata": {},
   "outputs": [
    {
     "name": "stdout",
     "output_type": "stream",
     "text": [
      "1 random: 3\n",
      "2 random: 1\n",
      "3 random: 1\n"
     ]
    }
   ],
   "source": [
    "class RandomListNode(object):\n",
    "    def __init__(self, x):\n",
    "        self.label = x\n",
    "        self.next = None\n",
    "        self.random = None\n",
    "            \n",
    "def copyRandomList(head):\n",
    "\n",
    "    if head is None:\n",
    "        return None\n",
    "\n",
    "    #hash table to mark down original codes\n",
    "    table = {}\n",
    "    table[id(None)] = None #python id() = address of element\n",
    "\n",
    "    #first iteration to copy list without pointers\n",
    "    curr = head\n",
    "    while curr is not None:\n",
    "        #save corresponding node with id()\n",
    "        #original id(Node) as key, make new RandomListNode(Node.label) as value\n",
    "        table[id(curr)] = RandomListNode(curr.label)\n",
    "        curr = curr.next\n",
    "\n",
    "    #second iteration to copy two pointers\n",
    "    curr = head\n",
    "    while curr is not None:\n",
    "        node = table[id(curr)]\n",
    "        node.next = table[id(curr.next)]\n",
    "        node.random = table[id(curr.random)]\n",
    "        curr = curr.next\n",
    "\n",
    "    return table[id(head)]\n",
    "\n",
    "    \n",
    "head = RandomListNode(1)\n",
    "head.next = RandomListNode(2)\n",
    "head.next.next = RandomListNode(3)\n",
    "head.random = head.next.next #1->3\n",
    "head.next.random = head #2->1\n",
    "head.next.next.random = head #3->1\n",
    "\n",
    "ans = copyRandomList(head)\n",
    "print(ans.label, \"random:\", ans.random.label)\n",
    "print(ans.next.label, \"random:\", ans.next.random.label)\n",
    "print(ans.next.next.label, \"random:\", ans.next.next.random.label)\n",
    "\n"
   ]
  },
  {
   "cell_type": "code",
   "execution_count": null,
   "metadata": {
    "collapsed": true
   },
   "outputs": [],
   "source": []
  }
 ],
 "metadata": {
  "kernelspec": {
   "display_name": "Python 3",
   "language": "python",
   "name": "python3"
  },
  "language_info": {
   "codemirror_mode": {
    "name": "ipython",
    "version": 3
   },
   "file_extension": ".py",
   "mimetype": "text/x-python",
   "name": "python",
   "nbconvert_exporter": "python",
   "pygments_lexer": "ipython3",
   "version": "3.6.0"
  }
 },
 "nbformat": 4,
 "nbformat_minor": 2
}
