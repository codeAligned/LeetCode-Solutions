{
 "cells": [
  {
   "cell_type": "markdown",
   "metadata": {},
   "source": [
    "# Anagrams and Palindromes"
   ]
  },
  {
   "cell_type": "raw",
   "metadata": {},
   "source": [
    "Anagrams: gary and gray\n",
    "Palindrome: racecar"
   ]
  },
  {
   "cell_type": "code",
   "execution_count": 9,
   "metadata": {},
   "outputs": [
    {
     "name": "stdout",
     "output_type": "stream",
     "text": [
      "True\n",
      "False\n"
     ]
    }
   ],
   "source": [
    "#Check if 2 strings s,t anagrams of each other\n",
    "#Approach: use a map {O(n)}\n",
    "#1) Iterate string1, add count of every letter to map\n",
    "#2) Iterate string2, decerement count of every letter from map, if doesn't exist in map return False\n",
    "#3) Check if every entry in map has value 0. If not, return false\n",
    "\n",
    "def isAnagram(s, t):\n",
    "    #optional length check\n",
    "    if len(s) != len(t):\n",
    "        return False\n",
    "    \n",
    "    wordmap = {}\n",
    "    for char in s:\n",
    "        if char not in wordmap:\n",
    "            wordmap[char] = 1\n",
    "        else:\n",
    "            wordmap[char] = wordmap[char] + 1\n",
    "\n",
    "    for char2 in t:\n",
    "        if char2 in wordmap:\n",
    "            wordmap[char2] = wordmap[char2] - 1\n",
    "        else:\n",
    "            return False\n",
    "\n",
    "    for key in wordmap:\n",
    "        if wordmap[key] != 0:\n",
    "            return False\n",
    "\n",
    "    return True\n",
    "\n",
    "\n",
    "print(isAnagram(\"gary\", \"gray\"))\n",
    "print(isAnagram(\"gary\", \"gory\"))\n",
    "        "
   ]
  },
  {
   "cell_type": "code",
   "execution_count": 14,
   "metadata": {},
   "outputs": [
    {
     "name": "stdout",
     "output_type": "stream",
     "text": [
      "True\n",
      "False\n"
     ]
    }
   ],
   "source": [
    "#Check if str is palindrome\n",
    "#Check if str[i] = str[length - i - 1]\n",
    "\n",
    "def isPalindrome(string):\n",
    "    for i in range(0, int(len(string)/2)):\n",
    "        if string[i] != string[len(string)-i-1]:\n",
    "            return False\n",
    "    return True\n",
    "\n",
    "print(isPalindrome(\"racecar\"))\n",
    "print(isPalindrome(\"gary\"))"
   ]
  },
  {
   "cell_type": "code",
   "execution_count": null,
   "metadata": {
    "collapsed": true
   },
   "outputs": [],
   "source": []
  }
 ],
 "metadata": {
  "kernelspec": {
   "display_name": "Python 3",
   "language": "python",
   "name": "python3"
  },
  "language_info": {
   "codemirror_mode": {
    "name": "ipython",
    "version": 3
   },
   "file_extension": ".py",
   "mimetype": "text/x-python",
   "name": "python",
   "nbconvert_exporter": "python",
   "pygments_lexer": "ipython3",
   "version": "3.6.0"
  }
 },
 "nbformat": 4,
 "nbformat_minor": 2
}
