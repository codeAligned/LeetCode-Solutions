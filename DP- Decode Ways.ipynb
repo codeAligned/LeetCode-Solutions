{
 "cells": [
  {
   "cell_type": "markdown",
   "metadata": {},
   "source": [
    "# DP- Decode Ways"
   ]
  },
  {
   "cell_type": "raw",
   "metadata": {},
   "source": [
    "Given\n",
    "'A' -> 1\n",
    "'B' -> 2\n",
    "...\n",
    "'Z' -> 26\n",
    "\n",
    "How many ways are there to decode a given string message? (string of numbers)"
   ]
  },
  {
   "cell_type": "code",
   "execution_count": 3,
   "metadata": {},
   "outputs": [
    {
     "name": "stdout",
     "output_type": "stream",
     "text": [
      "589824\n"
     ]
    }
   ],
   "source": [
    "#DP Solution with array\n",
    "# Complexity:\n",
    "# O(n) time\n",
    "# O(n) space\n",
    "\n",
    "def numDecodings(s):\n",
    "    n = len(s) #length of string\n",
    "\n",
    "    if not s and n <= 0: #base, no string or empty string\n",
    "        return 0\n",
    "    #first initialize base cases of dp[0] and dp[1]\n",
    "    #like a fibonacci seq we can add on\n",
    "    \n",
    "    dp = [0] * (n + 1) #entry for 0 + list of len n \n",
    "    dp[0] = 1        #initialize with 1 way\n",
    "    if s[0] == '0': #if first int not 0, then \n",
    "        dp[1] = 0\n",
    "    else:\n",
    "        dp[1] = 1\n",
    "\n",
    "    #recursive case\n",
    "    for i in range(2, n + 1):\n",
    "        one = int(s[i - 1])\n",
    "        two = int(s[i - 2] + s[i - 1])\n",
    "        \n",
    "        #if previous digit not 0\n",
    "        #add possibilities from previous digit\n",
    "        if one != 0:\n",
    "            dp[i] += dp[i - 1]\n",
    "\n",
    "        #calculate possibility of double digit combinations\n",
    "        #if previous 2 digits in range 10-26\n",
    "        #add possibilities from 2 digits ago\n",
    "        if two >= 10 and two <= 26:\n",
    "            dp[i] += dp[i - 2]\n",
    "\n",
    "    return dp[n]\n",
    "\n",
    "str = \"4757562545844617494555774581341211511296816786586787755257741178599337186486723247528324612117156948\"\n",
    "#expected 589824\n",
    "print(numDecodings(str))\n",
    "\n"
   ]
  },
  {
   "cell_type": "code",
   "execution_count": 16,
   "metadata": {},
   "outputs": [
    {
     "name": "stdout",
     "output_type": "stream",
     "text": [
      "589824\n"
     ]
    }
   ],
   "source": [
    "#DP Solution simplifying array to 2 variables\n",
    "# Complexity:\n",
    "# O(n) time\n",
    "# O(1) space\n",
    "\n",
    "def numDecodings(s):\n",
    "    n = len(s)\n",
    "    if not s or n == 0:\n",
    "        return 0\n",
    "\n",
    "    p = 1   # store the number of two digits\n",
    "    q = 0\n",
    "\n",
    "    if int(s[0]) != 0:\n",
    "        q = 1\n",
    "\n",
    "    for i in range(2, n + 1):\n",
    "        tmp = q\n",
    "        q = 0\n",
    "        if int(s[i - 1]) != 0:\n",
    "            q += tmp\n",
    "\n",
    "        two = int(s[i - 2] + s[i - 1])\n",
    "        if two >= 10 and two <= 26:\n",
    "            q += p\n",
    "        p = tmp\n",
    "\n",
    "    return q\n",
    "\n",
    "str = \"4757562545844617494555774581341211511296816786586787755257741178599337186486723247528324612117156948\"\n",
    "#expected 589824\n",
    "print(numDecodings(str))\n",
    "\n"
   ]
  },
  {
   "cell_type": "code",
   "execution_count": 6,
   "metadata": {},
   "outputs": [
    {
     "name": "stdout",
     "output_type": "stream",
     "text": [
      "589824\n"
     ]
    }
   ],
   "source": [
    "#Steps from Sol 1 (array) to Sol 2 (just keeping track of variables)\n",
    "\n",
    "\n",
    "def numDecodings(s):\n",
    "    n = len(s) #length of string\n",
    "\n",
    "    if not s and n <= 0: #base, no string or empty string\n",
    "        return 0\n",
    "    #first initialize base cases of dp[0] and dp[1]\n",
    "    #like a fibonacci seq we can add on\n",
    "    \n",
    "    dp = [0] * (n + 1) \n",
    "    dp[0] = 1        \n",
    "    if s[0] == '0':\n",
    "        dp[1] = 0\n",
    "    else:\n",
    "        dp[1] = 1\n",
    "        \n",
    "#     p as dp[0]      (dp[i-2])\n",
    "#     q as dp[1]      (dp[i-1])\n",
    "#     p = 1\n",
    "#     q = 0\n",
    "#     if int(s[0] != 0):\n",
    "#         q = 1\n",
    "        \n",
    "        \n",
    "\n",
    "    #recursive case\n",
    "    for i in range(2, n + 1):\n",
    "        one = int(s[i - 1])\n",
    "        two = int(s[i - 2] + s[i - 1])\n",
    "        \n",
    "        #qprev = q             (q = dp[i], qprev = dp[i-1], p = dp[i-2])\n",
    "        #q = 0 (reset q)\n",
    "        \n",
    "        \n",
    "        if one != 0:\n",
    "            dp[i] += dp[i - 1]\n",
    "            #q += qprev\n",
    "\n",
    "        \n",
    "        if two >= 10 and two <= 26:\n",
    "            dp[i] += dp[i - 2]\n",
    "            #q += p\n",
    "        #p = qprev\n",
    "        \n",
    "    return dp[n]\n",
    "    #return q\n",
    "\n",
    "str = \"4757562545844617494555774581341211511296816786586787755257741178599337186486723247528324612117156948\"\n",
    "#expected 589824\n",
    "print(numDecodings(str))\n",
    "\n",
    "\n"
   ]
  },
  {
   "cell_type": "code",
   "execution_count": null,
   "metadata": {
    "collapsed": true
   },
   "outputs": [],
   "source": []
  }
 ],
 "metadata": {
  "kernelspec": {
   "display_name": "Python 3",
   "language": "python",
   "name": "python3"
  },
  "language_info": {
   "codemirror_mode": {
    "name": "ipython",
    "version": 3
   },
   "file_extension": ".py",
   "mimetype": "text/x-python",
   "name": "python",
   "nbconvert_exporter": "python",
   "pygments_lexer": "ipython3",
   "version": "3.6.0"
  }
 },
 "nbformat": 4,
 "nbformat_minor": 2
}
