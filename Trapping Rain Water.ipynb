{
 "cells": [
  {
   "cell_type": "markdown",
   "metadata": {},
   "source": [
    "## Leetcode 42. Trapping Rain Water"
   ]
  },
  {
   "cell_type": "raw",
   "metadata": {},
   "source": [
    " Given n non-negative integers representing an elevation map where the width of each bar is 1, compute how much water it is able to trap after raining.\n",
    "\n",
    "For example, \n",
    "Given [0,1,0,2,1,0,1,3,2,1,2,1], return 6."
   ]
  },
  {
   "cell_type": "code",
   "execution_count": 1,
   "metadata": {},
   "outputs": [
    {
     "name": "stdout",
     "output_type": "stream",
     "text": [
      "6\n"
     ]
    }
   ],
   "source": [
    "def waterTrapped(terrain):\n",
    "    #maxseenleft will update max element on left side of i as for loop goes on\n",
    "    #maxseenright will be an array that stores the max tower right of element i\n",
    "    maxSoFar = 0\n",
    "    maxSeenLeft = 0\n",
    "    maxSeenRight = [0 for i in range(len(terrain))]\n",
    "    rainwater = 0\n",
    "    \n",
    "    #loop from right to left\n",
    "    for i in reversed(range(len(terrain))):\n",
    "        if terrain[i] > maxSoFar:\n",
    "            maxSoFar = terrain[i]\n",
    "        maxSeenRight[i] = maxSoFar #record the height of max tower to the right of the ith element\n",
    "    \n",
    "    for i in range(len(terrain)):\n",
    "        waterabovei = min(maxSeenLeft, maxSeenRight[i]) - terrain[i]\n",
    "        if waterabovei < 0:\n",
    "            waterabovei = 0 #ensure not negative\n",
    "        rainwater += waterabovei\n",
    "        \n",
    "        #update maxseenleft since looping from left to right this time\n",
    "        if terrain[i] > maxSeenLeft:\n",
    "            maxSeenLeft = terrain[i]\n",
    "    return rainwater\n",
    "\n",
    "\n",
    "terrain = [0,1,0,2,1,0,1,3,2,1,2,1]\n",
    "print(waterTrapped(terrain))"
   ]
  },
  {
   "cell_type": "code",
   "execution_count": null,
   "metadata": {
    "collapsed": true
   },
   "outputs": [],
   "source": []
  },
  {
   "cell_type": "code",
   "execution_count": null,
   "metadata": {
    "collapsed": true
   },
   "outputs": [],
   "source": []
  }
 ],
 "metadata": {
  "kernelspec": {
   "display_name": "Python 3",
   "language": "python",
   "name": "python3"
  },
  "language_info": {
   "codemirror_mode": {
    "name": "ipython",
    "version": 3
   },
   "file_extension": ".py",
   "mimetype": "text/x-python",
   "name": "python",
   "nbconvert_exporter": "python",
   "pygments_lexer": "ipython3",
   "version": "3.6.0"
  }
 },
 "nbformat": 4,
 "nbformat_minor": 2
}
