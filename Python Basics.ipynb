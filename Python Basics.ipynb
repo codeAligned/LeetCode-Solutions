{
 "cells": [
  {
   "cell_type": "markdown",
   "metadata": {},
   "source": [
    "# Python Basics"
   ]
  },
  {
   "cell_type": "code",
   "execution_count": 2,
   "metadata": {},
   "outputs": [
    {
     "ename": "SyntaxError",
     "evalue": "unexpected EOF while parsing (<ipython-input-2-a00d70497d6e>, line 11)",
     "output_type": "error",
     "traceback": [
      "\u001b[0;36m  File \u001b[0;32m\"<ipython-input-2-a00d70497d6e>\"\u001b[0;36m, line \u001b[0;32m11\u001b[0m\n\u001b[0;31m    def helper(self, A, B):\u001b[0m\n\u001b[0m                           ^\u001b[0m\n\u001b[0;31mSyntaxError\u001b[0m\u001b[0;31m:\u001b[0m unexpected EOF while parsing\n"
     ]
    }
   ],
   "source": [
    "class Student:\n",
    "    \n",
    "    def __init__(self, name, branch): #init\n",
    "        self.name = name\n",
    "        self.branch = branch\n",
    "    \n",
    "    def helper(self, A, B): #helper must be declared before it is called (before linewise in code)\n",
    "        #code\n",
    "    \n",
    "    \n",
    "    def sumStudents(self, A): #When inside a class declare function starting with self\n",
    "        B = []\n",
    "        self.helper(A,B) #Call with self.helper()\n",
    "        \n",
    "    "
   ]
  },
  {
   "cell_type": "raw",
   "metadata": {
    "collapsed": true
   },
   "source": [
    "Data Types"
   ]
  },
  {
   "cell_type": "code",
   "execution_count": 2,
   "metadata": {},
   "outputs": [
    {
     "ename": "SyntaxError",
     "evalue": "invalid syntax (<ipython-input-2-8955fd5809b3>, line 4)",
     "output_type": "error",
     "traceback": [
      "\u001b[0;36m  File \u001b[0;32m\"<ipython-input-2-8955fd5809b3>\"\u001b[0;36m, line \u001b[0;32m4\u001b[0m\n\u001b[0;31m    Set = {1,2,3} = #Sets do not contain duplicates\u001b[0m\n\u001b[0m                                                   ^\u001b[0m\n\u001b[0;31mSyntaxError\u001b[0m\u001b[0;31m:\u001b[0m invalid syntax\n"
     ]
    }
   ],
   "source": [
    "List = [1,2,3]\n",
    "Tuples = (1,2,3) #Tuples are lists that cannot be changed\n",
    "Dictionary = {'A':1, 'B':2, 'C':3} #Dictionaries are sets with key:val pairs\n",
    "Set = {1,2,3} = #Sets do not contain duplicates"
   ]
  },
  {
   "cell_type": "raw",
   "metadata": {},
   "source": [
    "List Comprehension"
   ]
  },
  {
   "cell_type": "code",
   "execution_count": 7,
   "metadata": {},
   "outputs": [
    {
     "name": "stdout",
     "output_type": "stream",
     "text": [
      "[1, 4, 9, 16, 25]\n",
      "[1, 4, 9, 16, 25]\n",
      "[0, 4, 16, 36, 64]\n"
     ]
    }
   ],
   "source": [
    "#find the square of each number in mylist\n",
    "mylist = [1,2,3,4,5]\n",
    "squares = [num**2 for num in mylist] #easy oneliner\n",
    "print(squares)\n",
    "\n",
    "#OR\n",
    "print([x**2 for x in range (1,6)])\n",
    "\n",
    "\n",
    "#even squares\n",
    "even_squares = [i**2 for i in range(10) if i % 2 == 0]\n",
    "print(even_squares)\n",
    "\n",
    "#http://intermediatepythonista.com/python-comprehensions"
   ]
  },
  {
   "cell_type": "code",
   "execution_count": null,
   "metadata": {
    "collapsed": true
   },
   "outputs": [],
   "source": []
  }
 ],
 "metadata": {
  "kernelspec": {
   "display_name": "Python 3",
   "language": "python",
   "name": "python3"
  },
  "language_info": {
   "codemirror_mode": {
    "name": "ipython",
    "version": 3
   },
   "file_extension": ".py",
   "mimetype": "text/x-python",
   "name": "python",
   "nbconvert_exporter": "python",
   "pygments_lexer": "ipython3",
   "version": "3.6.0"
  }
 },
 "nbformat": 4,
 "nbformat_minor": 2
}
