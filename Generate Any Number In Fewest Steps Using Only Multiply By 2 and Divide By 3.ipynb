{
 "cells": [
  {
   "cell_type": "markdown",
   "metadata": {},
   "source": [
    "## Generate any number in the fewest step using only multiply by 2 or divide by 3\n"
   ]
  },
  {
   "cell_type": "raw",
   "metadata": {},
   "source": [
    "e.g. 7 -> 2*2*2*2*2*2/3/3 = 7\n",
    "Given 7, return [2, 2, 2, 2, 2, 2, 3, 3]\n",
    "\n",
    "=>Here dividing by 3 discards any remainders\n",
    "For example, 16/3 = 5"
   ]
  },
  {
   "cell_type": "raw",
   "metadata": {},
   "source": [
    "(Bloomberg)\n",
    "Approach: BFS Dynmaic Programming\n",
    "\n",
    "In this case found is a record of all numbers that we have found a path to with the integer you get there from, and what operation to use.  added is the record of all integers that we found on the last pass.  new_added is all of the integers that we found on this pass.\n",
    "\n",
    "So we start with a record saying that we know how to get to 1. Then in each pass we take all of the just added records and see what new ones we get to by multiplying by 2 or dividing by 3.\n",
    "\n",
    "We stop once we found our target. And then it is a question of finding the path back through found to get back to 1. This gives us our answer but in reverse order - the end of the path is at the start of our list. So reverse it and we have our answer."
   ]
  },
  {
   "cell_type": "code",
   "execution_count": null,
   "metadata": {
    "collapsed": true
   },
   "outputs": [],
   "source": [
    "wanted = 7\n",
    "found = {1: None} #Dictionary that shows us how we got the number (either *2 or /3)\n",
    "                  #Stores 2*x: [x, \"*2\"]. Key: [step before, \"operation\"]\n",
    "added = [1]\n",
    "while True:\n",
    "    new_added = []\n",
    "    print(\"added array:\", added)\n",
    "    for x in added:\n",
    "        if 2*x not in found:\n",
    "            found[2*x] = [x, \"*2\"]\n",
    "            new_added.append(2*x)\n",
    "        if x//3 not in found:\n",
    "            found[x//3] = [x, \"/3\"]\n",
    "            new_added.append(x//3)\n",
    "    if wanted in found:\n",
    "        break\n",
    "    # This magic line copies new_added over the added array.\n",
    "    added[:] = new_added\n",
    "\n",
    "answer = []\n",
    "path = [wanted]\n",
    "while path[-1] != 1:\n",
    "    node = found[path[-1]]\n",
    "    path.append(node[0])\n",
    "    answer.append(node[1])\n",
    "print(\"answer:\",[x for x in reversed(answer)])\n",
    "print(\"multiplied by this many 2's then divided by this many 3's\")\n",
    "print(\"path (for clarity):\",[x for x in reversed(path)])\n"
   ]
  },
  {
   "cell_type": "code",
   "execution_count": null,
   "metadata": {
    "collapsed": true
   },
   "outputs": [],
   "source": []
  },
  {
   "cell_type": "code",
   "execution_count": null,
   "metadata": {
    "collapsed": true
   },
   "outputs": [],
   "source": [
    "\n"
   ]
  }
 ],
 "metadata": {
  "kernelspec": {
   "display_name": "Python 3",
   "language": "python",
   "name": "python3"
  },
  "language_info": {
   "codemirror_mode": {
    "name": "ipython",
    "version": 3
   },
   "file_extension": ".py",
   "mimetype": "text/x-python",
   "name": "python",
   "nbconvert_exporter": "python",
   "pygments_lexer": "ipython3",
   "version": "3.6.0"
  }
 },
 "nbformat": 4,
 "nbformat_minor": 2
}
