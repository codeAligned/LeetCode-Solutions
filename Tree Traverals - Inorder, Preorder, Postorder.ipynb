{
 "cells": [
  {
   "cell_type": "markdown",
   "metadata": {
    "collapsed": true
   },
   "source": [
    "# Tree Traverals: Inorder/Preorder/Postorder\n"
   ]
  },
  {
   "cell_type": "raw",
   "metadata": {},
   "source": [
    "     1\n",
    "    / \\\n",
    "   2   3\n",
    "  / \\\n",
    " 4   5\n",
    " \n",
    "Depth First Traversals:\n",
    "(a) Inorder (Left, Root, Right) : 4 2 5 1 3\n",
    "(b) Preorder (Root, Left, Right) : 1 2 4 5 3\n",
    "(c) Postorder (Left, Right, Root) : 4 5 2 3 1\n",
    "\n",
    "(extra)Breadth First or Level Order Traversal : 1 2 3 4 5"
   ]
  },
  {
   "cell_type": "code",
   "execution_count": 34,
   "metadata": {},
   "outputs": [
    {
     "name": "stdout",
     "output_type": "stream",
     "text": [
      "4 2 5 1 3 "
     ]
    }
   ],
   "source": [
    "#Inorder Traversal\n",
    "\n",
    "#Actual Code        \n",
    "def inOrder(root):\n",
    "    if root:\n",
    "        inOrder(root.left)\n",
    "        print(root.data, end=' ') #what changes between the 3 traversals is the position of the print statement\n",
    "        inOrder(root.right)\n",
    "        \n",
    "\n",
    "        \n",
    "#Node definition\n",
    "class Node:\n",
    "    def __init__(self ,data):\n",
    "        self.data = data\n",
    "        self.left  = None\n",
    "        self.right = None\n",
    "#Test Driver\n",
    "root = Node('1')\n",
    "root.left = Node('2')\n",
    "root.right = Node('3')\n",
    "root.left.left = Node('4')\n",
    "root.left.right = Node('5')\n",
    "inOrder(root)\n",
    "    "
   ]
  },
  {
   "cell_type": "code",
   "execution_count": 35,
   "metadata": {},
   "outputs": [
    {
     "name": "stdout",
     "output_type": "stream",
     "text": [
      "1 2 4 5 3 "
     ]
    }
   ],
   "source": [
    "#Preorder Traversal\n",
    "\n",
    "#Actual Code        \n",
    "def preOrder(root):\n",
    "    if root:\n",
    "        print(root.data, end=' ')\n",
    "        preOrder(root.left)\n",
    "        preOrder(root.right)\n",
    "\n",
    "        \n",
    "#Node definition\n",
    "class Node:\n",
    "    def __init__(self ,data):\n",
    "        self.data = data\n",
    "        self.left  = None\n",
    "        self.right = None\n",
    "#Test Driver\n",
    "root = Node('1')\n",
    "root.left = Node('2')\n",
    "root.right = Node('3')\n",
    "root.left.left = Node('4')\n",
    "root.left.right = Node('5')\n",
    "preOrder(root)"
   ]
  },
  {
   "cell_type": "code",
   "execution_count": 37,
   "metadata": {},
   "outputs": [
    {
     "name": "stdout",
     "output_type": "stream",
     "text": [
      "4 5 2 3 1 "
     ]
    }
   ],
   "source": [
    "#Postorder Traversal\n",
    "\n",
    "#Actual Code        \n",
    "def postOrder(root):\n",
    "    if root:\n",
    "        postOrder(root.left)\n",
    "        postOrder(root.right)\n",
    "        print(root.data, end=' ')\n",
    "\n",
    "        \n",
    "#Node definition\n",
    "class Node:\n",
    "    def __init__(self ,data):\n",
    "        self.data = data\n",
    "        self.left  = None\n",
    "        self.right = None\n",
    "#Test Driver\n",
    "root = Node('1')\n",
    "root.left = Node('2')\n",
    "root.right = Node('3')\n",
    "root.left.left = Node('4')\n",
    "root.left.right = Node('5')\n",
    "postOrder(root)"
   ]
  },
  {
   "cell_type": "code",
   "execution_count": null,
   "metadata": {
    "collapsed": true
   },
   "outputs": [],
   "source": []
  }
 ],
 "metadata": {
  "kernelspec": {
   "display_name": "Python 3",
   "language": "python",
   "name": "python3"
  },
  "language_info": {
   "codemirror_mode": {
    "name": "ipython",
    "version": 3
   },
   "file_extension": ".py",
   "mimetype": "text/x-python",
   "name": "python",
   "nbconvert_exporter": "python",
   "pygments_lexer": "ipython3",
   "version": "3.6.0"
  }
 },
 "nbformat": 4,
 "nbformat_minor": 2
}
