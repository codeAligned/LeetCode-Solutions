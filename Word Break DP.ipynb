{
 "cells": [
  {
   "cell_type": "raw",
   "metadata": {},
   "source": [
    "Given a non-empty string s and a dictionary wordDict containing a list of non-empty words, determine if s can be segmented into a space-separated sequence of one or more dictionary words. You may assume the dictionary does not contain duplicate words.\n",
    "\n",
    "For example, given\n",
    "s = \"leetcode\",\n",
    "dict = [\"leet\", \"code\"].\n",
    "\n",
    "Return true because \"leetcode\" can be segmented as \"leet code\"."
   ]
  },
  {
   "cell_type": "raw",
   "metadata": {},
   "source": [
    "Naive: for loop for strings s[0:1], s[0:2]...s[0:n], then s[1:2]...s[1:n]\n",
    "complexity: O(n^2)\n",
    "\n",
    "DP: Store a True/False value for every letter in the string, indicating whether s[0:i] can be broken down into strings\n",
    "complexity: O(n)\n",
    "space: O(n)"
   ]
  },
  {
   "cell_type": "code",
   "execution_count": 40,
   "metadata": {},
   "outputs": [
    {
     "data": {
      "text/plain": [
       "False"
      ]
     },
     "execution_count": 40,
     "metadata": {},
     "output_type": "execute_result"
    }
   ],
   "source": [
    "class Solution(object):\n",
    "    def wordBreak(self, s, a_dict):\n",
    "        #check basecase, if dict contains no words\n",
    "        if len(a_dict) == 0:\n",
    "            return False\n",
    "        \n",
    "        \n",
    "        #create dp array initializing first element to true\n",
    "        #array has n more elements, one element for each letter in the string\n",
    "        #these are all initialized to false.\n",
    "        #They will represent whether a string can be broken down from 0:current position\n",
    "        #e.g. iamcat will have dp array = [True, True, False, True, False, False, True]\n",
    "        #Since \"\" = True, \"I\" = True, \"Ia\" = False, \"Iam\" = True, ........\"Iamcat\" = True.\n",
    "        #(Assuming dictionary [\"I\", \"am\", \"cat\"])\n",
    "        dp = [True]\n",
    "        for i in range(len(s)):\n",
    "            dp.append(False)\n",
    "            \n",
    "        for i in range(1, len(s)+1): #for every letter in s\n",
    "            for j in range(i):       #for every letter position prior to it.\n",
    "                if dp[j] and s[j:i] in a_dict:       #for some prev position j\n",
    "                                                     #if 0:j is valid string and j:i+1=current pos is valid string\n",
    "                                                     #set current i+1 pos true (valid string)\n",
    "                    dp[i] = True\n",
    "        return dp[len(s)]\n",
    "    \n",
    "    \n",
    "s = \"leetcode\",\n",
    "given_dict = [\"leet\", \"code\"]\n",
    "wordBreak(s, given_dict)\n",
    "    "
   ]
  }
 ],
 "metadata": {
  "kernelspec": {
   "display_name": "Python 3",
   "language": "python",
   "name": "python3"
  },
  "language_info": {
   "codemirror_mode": {
    "name": "ipython",
    "version": 3
   },
   "file_extension": ".py",
   "mimetype": "text/x-python",
   "name": "python",
   "nbconvert_exporter": "python",
   "pygments_lexer": "ipython3",
   "version": "3.6.0"
  }
 },
 "nbformat": 4,
 "nbformat_minor": 2
}
