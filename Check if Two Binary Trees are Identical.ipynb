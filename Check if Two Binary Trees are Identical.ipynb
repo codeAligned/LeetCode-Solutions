{
 "cells": [
  {
   "cell_type": "markdown",
   "metadata": {},
   "source": [
    "## Check if Two Binary Trees are Identical"
   ]
  },
  {
   "cell_type": "code",
   "execution_count": 3,
   "metadata": {},
   "outputs": [
    {
     "name": "stdout",
     "output_type": "stream",
     "text": [
      "Both trees are identical\n"
     ]
    }
   ],
   "source": [
    " \n",
    "# A binary tree node has data, pointer to left child\n",
    "# and a pointer to right child\n",
    "class Node:\n",
    "    # Constructor to create a new node\n",
    "    def __init__(self, data):\n",
    "        self.data = data\n",
    "        self.left = None\n",
    "        self.right = None\n",
    "     \n",
    "    \n",
    "def identicalTrees(a, b):\n",
    "     \n",
    "    # 1. Both empty\n",
    "    if a is None and b is None:\n",
    "        return True\n",
    " \n",
    "    # 2. Both non-empty -> Compare them\n",
    "    if a is not None and b is not None:\n",
    "        return ((a.data == b.data) and\n",
    "                identicalTrees(a.left, b.left)and\n",
    "                identicalTrees(a.right, b.right))\n",
    "     \n",
    "    # 3. one empty, one not -- false\n",
    "    return False\n",
    " \n",
    "# Driver program to test identicalTress function\n",
    "root1 = Node(1)\n",
    "root1.left = Node(2)\n",
    "root1.right = Node(3)\n",
    "root1.left.left = Node(4)\n",
    "root1.left.right = Node(5)\n",
    " \n",
    "root2 = Node(1)\n",
    "root2.left = Node(2)\n",
    "root2.right = Node(3)\n",
    "root2.left.left = Node(4)\n",
    "root2.left.right = Node(5)\n",
    "    \n",
    "if identicalTrees(root1, root2):\n",
    "    print(\"Both trees are identical\")\n",
    "else:\n",
    "    print (\"Trees are not identical\")\n",
    " \n"
   ]
  },
  {
   "cell_type": "code",
   "execution_count": null,
   "metadata": {
    "collapsed": true
   },
   "outputs": [],
   "source": []
  }
 ],
 "metadata": {
  "kernelspec": {
   "display_name": "Python 3",
   "language": "python",
   "name": "python3"
  },
  "language_info": {
   "codemirror_mode": {
    "name": "ipython",
    "version": 3
   },
   "file_extension": ".py",
   "mimetype": "text/x-python",
   "name": "python",
   "nbconvert_exporter": "python",
   "pygments_lexer": "ipython3",
   "version": "3.6.0"
  }
 },
 "nbformat": 4,
 "nbformat_minor": 2
}
