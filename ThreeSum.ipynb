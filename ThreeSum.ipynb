{
 "cells": [
  {
   "cell_type": "markdown",
   "metadata": {},
   "source": [
    "# ThreeSum"
   ]
  },
  {
   "cell_type": "raw",
   "metadata": {},
   "source": [
    "Given an array S of n integers, are there elements a, b, c in S such that a + b + c = 0? Find all unique triplets in the array which gives the sum of zero."
   ]
  },
  {
   "cell_type": "code",
   "execution_count": 2,
   "metadata": {},
   "outputs": [
    {
     "name": "stdout",
     "output_type": "stream",
     "text": [
      "[[-1, 0, 1], [-1, -1, 2]]\n"
     ]
    }
   ],
   "source": [
    "#naive O(n^3)\n",
    "\n",
    "def threeSum(nums):\n",
    "    sets = []\n",
    "    for i in range(0, len(nums)-2): #between 0 and len-2\n",
    "        for j in range(i+1, len(nums)-1): #between i and len-1\n",
    "            for k in range(j+1, len(nums)): #between j and length\n",
    "                a = nums[i]\n",
    "                b = nums[j]\n",
    "                c = nums[k]\n",
    "                ans = [a,b,c]\n",
    "                ans.sort()    #sort to avoid duplicates\n",
    "                #check sorted a,b,c not in sets already\n",
    "                if a+b+c == 0 and ans not in sets:\n",
    "                    sets.append(ans)\n",
    "    return sets\n",
    "\n",
    "arr = [-1, 0, 1, 2, -1, -4]\n",
    "print(threeSum(arr))"
   ]
  },
  {
   "cell_type": "code",
   "execution_count": 25,
   "metadata": {},
   "outputs": [
    {
     "name": "stdout",
     "output_type": "stream",
     "text": [
      "[(-1, -1, 2), (-1, 0, 1)]\n"
     ]
    }
   ],
   "source": [
    "#O(n^2)\n",
    "#instead of using 3 loops\n",
    "#we use 2 on a sorted list\n",
    "#first loop through list once and pin down one number\n",
    "#then loop through list a second time and with left and right ptrs\n",
    "#pointing at smallest and largest nums\n",
    "#then increase/decrease based on sum\n",
    "\n",
    "def threeSum(nums):\n",
    "    sols = [] #solution list to keep track of multiple sols\n",
    "    nums.sort() #sort first so we can use 1 pass instead of 2\n",
    "    for i in range(0, len(nums)-2):\n",
    "        if i > 0 and nums[i] == nums[i-1]:\n",
    "            continue\n",
    "            \n",
    "        #l = left ptr after i\n",
    "        #r = right ptr at end\n",
    "        l = i+1\n",
    "        r = len(nums) -1\n",
    "        \n",
    "        \n",
    "        while l < r:\n",
    "            s = nums[i] + nums[l] + nums[r]\n",
    "            if s < 0: #if sum not 0 yet, increase left ptr\n",
    "                l +=1 \n",
    "            elif s > 0: #else sum too big, decrease right ptr\n",
    "                r -= 1\n",
    "            else: #else sum == 0\n",
    "                sols.append((nums[i], nums[l], nums[r]))\n",
    "                \n",
    "                #while l < r (still more to search) and\n",
    "                #and if nums[l] and nums[l+1] the same (creates same ans)\n",
    "                while l < r and nums[l] == nums[l+1]:\n",
    "                    l += 1\n",
    "                while l < r and nums[r] == nums[r-1]:\n",
    "                    r -= 1\n",
    "                \n",
    "                l += 1\n",
    "                r -= 1\n",
    "    return sols\n",
    "\n",
    "arr = [-1, 0, 1, 2, -1, -4]\n",
    "print(threeSum(arr))"
   ]
  }
 ],
 "metadata": {
  "kernelspec": {
   "display_name": "Python 3",
   "language": "python",
   "name": "python3"
  },
  "language_info": {
   "codemirror_mode": {
    "name": "ipython",
    "version": 3
   },
   "file_extension": ".py",
   "mimetype": "text/x-python",
   "name": "python",
   "nbconvert_exporter": "python",
   "pygments_lexer": "ipython3",
   "version": "3.6.0"
  }
 },
 "nbformat": 4,
 "nbformat_minor": 2
}
