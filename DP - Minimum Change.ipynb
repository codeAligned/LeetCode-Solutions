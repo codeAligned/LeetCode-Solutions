{
 "cells": [
  {
   "cell_type": "markdown",
   "metadata": {},
   "source": [
    "# Dynamic Programming - Minimum Coin Change"
   ]
  },
  {
   "cell_type": "code",
   "execution_count": 2,
   "metadata": {
    "collapsed": true
   },
   "outputs": [],
   "source": [
    "#coinValueList = [1,5,10,25]\n",
    "#change = amount to make change for (e.g. 63 cents = 25+25+10+1+1+1)\n",
    "#minCoins = min # of coins it takes to make change (6 in this case)\n",
    "\n",
    "def dpMakeChange(coinValueList,change,minCoins):\n",
    "   for cents in range(change+1): #loop through all numbers less than given amount to make change for\n",
    "      coinCount = cents #initialize # of coints neede to make change to all 1 cent coints (7 cents = 7 coins at first)\n",
    "      for j in [c for c in coinValueList if c <= cents]: #j = coins in coinvaluelist less than current cent count\n",
    "            if minCoins[cents-j] + 1 < coinCount: #if amount - any coin val can make change in less counts\n",
    "                coinCount = minCoins[cents-j]+1   #e.g. if cents = 17, check 17-1, 17-5, 17-10\n",
    "                                                  #say we already have the entry you can make 12cents w/ 3 coins\n",
    "                                                  #then 17cents = 4 as min entry\n",
    "                                                  #the if compares 17-1, 17-5, 17-10, rmbrs the lowest # coins it needs\n",
    "      minCoins[cents] = coinCount #store in minCoins list\n",
    "   return minCoins[change] #returns this list for the proble"
   ]
  },
  {
   "cell_type": "code",
   "execution_count": null,
   "metadata": {
    "collapsed": true
   },
   "outputs": [],
   "source": []
  }
 ],
 "metadata": {
  "kernelspec": {
   "display_name": "Python 3",
   "language": "python",
   "name": "python3"
  },
  "language_info": {
   "codemirror_mode": {
    "name": "ipython",
    "version": 3
   },
   "file_extension": ".py",
   "mimetype": "text/x-python",
   "name": "python",
   "nbconvert_exporter": "python",
   "pygments_lexer": "ipython3",
   "version": "3.6.0"
  }
 },
 "nbformat": 4,
 "nbformat_minor": 2
}
