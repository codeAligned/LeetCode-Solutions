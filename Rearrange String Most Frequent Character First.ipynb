{
 "cells": [
  {
   "cell_type": "markdown",
   "metadata": {},
   "source": [
    "## Sort string starting by most frequent character, then alphabetically if tie in frequency "
   ]
  },
  {
   "cell_type": "code",
   "execution_count": 1,
   "metadata": {},
   "outputs": [
    {
     "name": "stdout",
     "output_type": "stream",
     "text": [
      "bbooeglmr\n",
      "cccxxxaabbyyz\n"
     ]
    }
   ],
   "source": [
    "def frequencyOrdering(str):\n",
    "    \n",
    "    countmap = {}\n",
    "    for c in str:\n",
    "        if c not in countmap:\n",
    "            countmap[c] = 1\n",
    "        else:\n",
    "            countmap[c] += 1\n",
    "    \n",
    "    #print(countmap)\n",
    "    sortedmap = [v[0] for v in sorted(countmap.items(), key=lambda x: (-x[1], x[0]))]\n",
    "    #sorts on value then key, -x[1] for larger number first (value), x[0] for alphabetical (key)\n",
    "    #print(sortedmap)\n",
    "    \n",
    "    res = \"\"\n",
    "    for c in sortedmap:\n",
    "        res += countmap[c]*c\n",
    "    print(res)\n",
    "    \n",
    "    \n",
    "frequencyOrdering(\"bloomberg\")\n",
    "frequencyOrdering(\"zyyxxxcccaabb\")"
   ]
  },
  {
   "cell_type": "code",
   "execution_count": 21,
   "metadata": {},
   "outputs": [
    {
     "name": "stdout",
     "output_type": "stream",
     "text": [
      "{'b': 2, 'l': 1, 'o': 2, 'm': 1, 'e': 1, 'r': 1, 'g': 1}\n",
      "bbooeglmr\n",
      "{'z': 1, 'y': 2, 'x': 3, 'c': 3, 'a': 2, 'b': 2}\n",
      "cccxxxaabbyyz\n"
     ]
    }
   ],
   "source": [
    "#doing it without lambda expression\n",
    "\n",
    "def frequencyOrdering(str):\n",
    "    \n",
    "    countmap = {}\n",
    "    for c in str:\n",
    "        if c not in countmap:\n",
    "            countmap[c] = 1\n",
    "        else:\n",
    "            countmap[c] += 1\n",
    "    \n",
    "    print(countmap)\n",
    "    sortedmap = {}\n",
    "    for key, value in countmap.items():\n",
    "        if value not in sortedmap:\n",
    "            sortedmap[value] = [key]\n",
    "        else:\n",
    "            sortedmap[value].append(key)\n",
    "    \n",
    "    #print(sortedmap)\n",
    "    for key in sortedmap:\n",
    "        sortedmap[key] = sorted(sortedmap[key])\n",
    "    \n",
    "    sortedkeys = reversed(sorted(sortedmap))\n",
    "\n",
    "    res = \"\"\n",
    "    for key in sortedkeys:\n",
    "        for c in sortedmap[key]:\n",
    "            res += (key * c)\n",
    "    print(res)\n",
    "#     for c in sortedmap:\n",
    "#         res += countmap[c]*c\n",
    "#     print(res)\n",
    "    \n",
    "    \n",
    "    \n",
    "frequencyOrdering(\"bloomberg\")\n",
    "frequencyOrdering(\"zyyxxxcccaabb\")"
   ]
  },
  {
   "cell_type": "code",
   "execution_count": null,
   "metadata": {
    "collapsed": true
   },
   "outputs": [],
   "source": []
  }
 ],
 "metadata": {
  "kernelspec": {
   "display_name": "Python 3",
   "language": "python",
   "name": "python3"
  },
  "language_info": {
   "codemirror_mode": {
    "name": "ipython",
    "version": 3
   },
   "file_extension": ".py",
   "mimetype": "text/x-python",
   "name": "python",
   "nbconvert_exporter": "python",
   "pygments_lexer": "ipython3",
   "version": "3.6.0"
  }
 },
 "nbformat": 4,
 "nbformat_minor": 2
}
