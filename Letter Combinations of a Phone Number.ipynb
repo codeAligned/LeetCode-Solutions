{
 "cells": [
  {
   "cell_type": "markdown",
   "metadata": {},
   "source": [
    "## Leetcode 17: Letter Combinations of a Phone Number"
   ]
  },
  {
   "cell_type": "raw",
   "metadata": {},
   "source": [
    "Given a digit string, return all possible letter combinations that the number could represent.\n",
    "\n",
    "A mapping of digit to letters (just like on the telephone buttons) is given below."
   ]
  },
  {
   "cell_type": "raw",
   "metadata": {},
   "source": [
    "Input:Digit string \"23\"\n",
    "Output: [\"ad\", \"ae\", \"af\", \"bd\", \"be\", \"bf\", \"cd\", \"ce\", \"cf\"]."
   ]
  },
  {
   "cell_type": "code",
   "execution_count": 7,
   "metadata": {},
   "outputs": [
    {
     "data": {
      "text/plain": [
       "['ad', 'ae', 'af', 'bd', 'be', 'bf', 'cd', 'ce', 'cf']"
      ]
     },
     "execution_count": 7,
     "metadata": {},
     "output_type": "execute_result"
    }
   ],
   "source": [
    "class Solution(object):\n",
    "    \n",
    "    def letterCombinations(self, digits):\n",
    "        #global dict for cellphone alphabet mapping and ans array\n",
    "        self.dict = {\n",
    "                     \"2\":\"abc\",\n",
    "                     \"3\":\"def\",\n",
    "                     \"4\":\"ghi\",\n",
    "                     \"5\":\"jkl\",\n",
    "                     \"6\":\"mno\", \n",
    "                     \"7\":\"pqrs\",\n",
    "                     \"8\":\"tuv\",\n",
    "                     \"9\":\"wxyz\"\n",
    "                    }\n",
    "        self.ans = [] #don't have to use self here\n",
    "        \n",
    "        #declare dfs as a helper function inside letterCombinations\n",
    "        def dfs(digits, index, temp):\n",
    "            if len(temp) == len(digits): #base case, finished, len(temp) = # of given digits\n",
    "                self.ans.append(\"\".join(temp)) #\"\" join with every element in temp array\n",
    "                return\n",
    "            else:\n",
    "                for x in self.dict[digits[index]]: #for every element corresponding to the digit in dict (e.g. 2:abc)\n",
    "                    temp.append(x) #try a,b,c\n",
    "                    dfs(digits, index+1, temp) #append and move on to next number (in 23 go from 2 to 3)\n",
    "                    temp.pop() #backtrack, initially try ad, then ae, af, then comeback and try bc, bd, etc.\n",
    "                    \n",
    "        dfs(digits, 0, [])\n",
    "        return self.ans\n",
    "\n",
    "Solution().letterCombinations(\"23\")\n",
    "\n",
    "        "
   ]
  }
 ],
 "metadata": {
  "kernelspec": {
   "display_name": "Python 3",
   "language": "python",
   "name": "python3"
  },
  "language_info": {
   "codemirror_mode": {
    "name": "ipython",
    "version": 3
   },
   "file_extension": ".py",
   "mimetype": "text/x-python",
   "name": "python",
   "nbconvert_exporter": "python",
   "pygments_lexer": "ipython3",
   "version": "3.6.0"
  }
 },
 "nbformat": 4,
 "nbformat_minor": 2
}
