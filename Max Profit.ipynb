{
 "cells": [
  {
   "cell_type": "markdown",
   "metadata": {},
   "source": [
    "# Max Profit (buying/selling once)"
   ]
  },
  {
   "cell_type": "code",
   "execution_count": null,
   "metadata": {
    "collapsed": true
   },
   "outputs": [],
   "source": [
    "\n",
    "\n",
    "def maxProfit(prices):\n",
    "    if not prices or len(prices) <= 1: #base case, if no array or only 1 element\n",
    "        return 0\n",
    "    low = prices[0]  #low = first element\n",
    "    maxprofit = 0    #initialize profit = 0\n",
    "    \n",
    "    for i in range(len(prices)):\n",
    "        if prices[i] < low:               #if found a price less than low\n",
    "            low = prices[i]               #set low to that price\n",
    "        #maxprofit is the larger of old maxprofit and prices[i] - low\n",
    "        maxprofit = max(maxprofit, prices[i] - low)   \n",
    "    return maxprofit\n",
    "\n",
    "\n",
    "arr1 = [7, 1, 5, 3, 6, 4]\n",
    "#expected 5\n",
    "arr2 = [7, 6, 4, 3, 1]\n",
    "#expected = 0\n",
    "print(maxProfit(arr1))\n",
    "print(maxProfit(arr2))"
   ]
  },
  {
   "cell_type": "markdown",
   "metadata": {},
   "source": [
    "# Max Profit (buying/selling twice)"
   ]
  },
  {
   "cell_type": "code",
   "execution_count": 7,
   "metadata": {},
   "outputs": [
    {
     "name": "stdout",
     "output_type": "stream",
     "text": [
      "Maximum profit is 100\n"
     ]
    }
   ],
   "source": [
    "# Returns maximum profit with two transactions on a given \n",
    "# list of stock prices price[0..n-1]\n",
    "def maxProfit(price,n):\n",
    "     \n",
    "    # Create profit array and initialize it as 0\n",
    "    profit = [0]*n\n",
    "     \n",
    "    # Get the maximum profit with only one transaction\n",
    "    # allowed. After this loop, profit[i] contains maximum\n",
    "    # profit from price[i..n-1] using at most one trans.\n",
    "    max_price=price[n-1]\n",
    "     \n",
    "    for i in range( n-2, 0 ,-1):\n",
    "         \n",
    "        if price[i]> max_price:\n",
    "            max_price = price[i]\n",
    "             \n",
    "        # we can get profit[i] by taking maximum of:\n",
    "        # a) previous maximum, i.e., profit[i+1]\n",
    "        # b) profit by buying at price[i] and selling at\n",
    "        #    max_price\n",
    "        profit[i] = max(profit[i+1], max_price - price[i])\n",
    "         \n",
    "    # Get the maximum profit with two transactions allowed\n",
    "    # After this loop, profit[n-1] contains the result    \n",
    "    min_price=price[0]\n",
    "     \n",
    "    for i in range(1,n):\n",
    "         \n",
    "        if price[i] < min_price:\n",
    "            min_price = price[i]\n",
    " \n",
    "        # Maximum profit is maximum of:\n",
    "        # a) previous maximum, i.e., profit[i-1]\n",
    "        # b) (Buy, Sell) at (min_price, A[i]) and add\n",
    "        #    profit of other trans. stored in profit[i]    \n",
    "        profit[i] = max(profit[i-1], profit[i]+(price[i]-min_price))\n",
    "         \n",
    "    result = profit[n-1]\n",
    "     \n",
    "    return result\n",
    " \n",
    "# Driver function\n",
    "price = [2, 30, 15, 10, 8, 25, 80]\n",
    "print (\"Maximum profit is\", maxProfit(price, len(price)))\n",
    "#100 = (30-2) + (80-8)"
   ]
  },
  {
   "cell_type": "code",
   "execution_count": null,
   "metadata": {
    "collapsed": true
   },
   "outputs": [],
   "source": []
  }
 ],
 "metadata": {
  "kernelspec": {
   "display_name": "Python 3",
   "language": "python",
   "name": "python3"
  },
  "language_info": {
   "codemirror_mode": {
    "name": "ipython",
    "version": 3
   },
   "file_extension": ".py",
   "mimetype": "text/x-python",
   "name": "python",
   "nbconvert_exporter": "python",
   "pygments_lexer": "ipython3",
   "version": "3.6.0"
  }
 },
 "nbformat": 4,
 "nbformat_minor": 2
}
