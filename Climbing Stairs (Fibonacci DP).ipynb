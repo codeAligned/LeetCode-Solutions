{
 "cells": [
  {
   "cell_type": "markdown",
   "metadata": {},
   "source": [
    "# Climbing Stairs"
   ]
  },
  {
   "cell_type": "raw",
   "metadata": {},
   "source": [
    "(Bloomberg/Facebook)\n",
    "There are n stairs, a person standing at the bottom wants to reach the top.\n",
    "The person can climb either 1 stair or 2 stairs at a time.\n",
    "Count the number of ways, the person can reach the top."
   ]
  },
  {
   "cell_type": "raw",
   "metadata": {},
   "source": [
    "1 step: 1\n",
    "2 steps: 1+1, 2\n",
    "3 steps: 1+1+1, 1+2, 2+1\n",
    "4 steps: (1+ 1+1+1, 1+ 1+2, 1+ 2+1), (2+ 1+1, 2+ 2)\n",
    "\n",
    "4 steps is essentially 1+(3 step ways) + 2+(2 step ways)\n",
    "Basically the Fibonacci function with\n",
    "\n",
    "So algorithm: ways(n) = ways(n-1) + ways(n-2)"
   ]
  },
  {
   "cell_type": "code",
   "execution_count": 3,
   "metadata": {},
   "outputs": [
    {
     "name": "stdout",
     "output_type": "stream",
     "text": [
      "4 steps: 5\n",
      "5 steps: 8\n",
      "7 steps: 21\n"
     ]
    }
   ],
   "source": [
    "#Method 1: Declare Fibonacci Function\n",
    "#Exponential time with Fibonacci recursive function, O(1) space\n",
    "\n",
    " \n",
    "# Recurssive program to find n'th fibonacci number\n",
    "def fib(n):\n",
    "    if n <= 1:\n",
    "        return n\n",
    "    return fib(n-1) + fib(n-2)\n",
    " \n",
    "# returns no. of ways to reach s'th stair\n",
    "def stairWays(s):\n",
    "    return fib(s + 1)\n",
    " \n",
    "    \n",
    "# Test Driver\n",
    "print(\"4 steps:\", stairWays(4))\n",
    "print(\"5 steps:\", stairWays(5))\n",
    "print(\"7 steps:\", stairWays(7))"
   ]
  },
  {
   "cell_type": "code",
   "execution_count": 8,
   "metadata": {},
   "outputs": [
    {
     "name": "stdout",
     "output_type": "stream",
     "text": [
      "21\n"
     ]
    }
   ],
   "source": [
    "#Fibonacci Function Dyanmic Programming\n",
    "#O(n) time, O(n) space\n",
    "\n",
    "FibArray = [0,1]\n",
    " \n",
    "def fibonacci(n):\n",
    "    if n<0:\n",
    "        print(\"Incorrect input\")\n",
    "    elif n<=len(FibArray): #if n already in fib array\n",
    "        return FibArray[n-1] #return result with index corresponding to n by looking in FibArray\n",
    "    else:\n",
    "        temp_fib = fibonacci(n-1)+fibonacci(n-2) #Here calls fib(7), fib(8)\n",
    "        FibArray.append(temp_fib) #Saves to FibArray so no need to call again\n",
    "        return temp_fib\n",
    " \n",
    "print(fibonacci(9))"
   ]
  },
  {
   "cell_type": "code",
   "execution_count": 16,
   "metadata": {},
   "outputs": [
    {
     "name": "stdout",
     "output_type": "stream",
     "text": [
      "21\n"
     ]
    }
   ],
   "source": [
    "# Fibonacci DP Optimized for Space\n",
    "# Storing only prev 2 fibonacci numbers instead of entire array of fib numbers\n",
    "# O(n) time, O(1) space\n",
    "# No recursion necessary\n",
    " \n",
    "def fibonacci(n):\n",
    "    a = 0\n",
    "    b = 1\n",
    "    if n < 0:\n",
    "        print(\"Incorrect input\")\n",
    "        \n",
    "    elif n == 0:\n",
    "        return 0\n",
    "    elif n == 1:\n",
    "        return 1\n",
    "    \n",
    "    #Given fib(n), simply calculates using n-2 loops\n",
    "    else:\n",
    "        for i in range(2,n):\n",
    "            c = a + b\n",
    "            a = b\n",
    "            b = c\n",
    "            #shifts each variable up one place a=b, b=c. (a<b<c)\n",
    "        return c\n",
    "\n",
    "print(fibonacci(9))"
   ]
  },
  {
   "cell_type": "raw",
   "metadata": {},
   "source": [
    "Binet's Method:\n",
    "An O(log n) time complexity can be achieved by implementing the below algorithm:\n",
    "    \n",
    "Using the fact that x^n = x^(n/2)^2\n",
    "So for example, if we're trying to calculate Fib(14):\n",
    "14 = 8+4+2 (Write as sum of power of 2's)\n",
    "Now we only have to calculate\n",
    "x^2 = x^2\n",
    "x^4 = (x^2)^2\n",
    "x^8 = (x^4)^2\n",
    "Maximum log(n) calculations\n"
   ]
  },
  {
   "cell_type": "markdown",
   "metadata": {},
   "source": [
    "<img src=\"fibonaccimatrix.png\">"
   ]
  },
  {
   "cell_type": "markdown",
   "metadata": {},
   "source": [
    "### Extension: Person can now take 1, 2, 3 ... m steps at a time"
   ]
  },
  {
   "cell_type": "raw",
   "metadata": {},
   "source": [
    "If m = 3,\n",
    "Now we need to check ways to get to n-1 steps, n-2 steps and n-3 steps, add them together\n",
    "\n",
    "1 step: 1\n",
    "2 steps: 1+1, 2\n",
    "3 steps: 1+1+1, 1+2, 2+1, 3\n",
    "4 steps: (1step) + (2steps) + (3steps) = 1 + 2 + 4 = 7\n",
    "5 steps: 2 + 4 + 7 = 13\n",
    "\n",
    "Algorithm:\n",
    "ways(n, m) = ways(n-1, m) + ways(n-2, m) + ... ways(n-m, m) \n",
    "(Loop n or m times, depending which is smaller)"
   ]
  },
  {
   "cell_type": "code",
   "execution_count": 55,
   "metadata": {},
   "outputs": [
    {
     "name": "stdout",
     "output_type": "stream",
     "text": [
      "fib 4 3\n",
      "fib 3 3\n",
      "fib 2 3\n",
      "i= 2\n",
      "ways = 1\n",
      "i= 3\n",
      "ways = 1\n",
      "i= 2\n",
      "ways = 1\n",
      "i= 3\n",
      "ways = 2\n",
      "i= 4\n",
      "ways = 2\n",
      "i= 2\n",
      "ways = 2\n",
      "fib 2 3\n",
      "i= 2\n",
      "ways = 1\n",
      "i= 3\n",
      "ways = 1\n",
      "i= 3\n",
      "ways = 3\n",
      "i= 4\n",
      "ways = 4\n",
      "Number of ways = 4\n"
     ]
    }
   ],
   "source": [
    "# Recursive function used by countWays\n",
    "def countWaysHelper(n, m):\n",
    "    if n <= 1:\n",
    "        return n\n",
    "    \n",
    "    ways = 0\n",
    "    i = 1\n",
    "    print(\"fib\", n, m)\n",
    "    while i<=m and i<=n: #Loop n or m times, depending which is smaller. If 2 steps, can take 1,2,3 steps, only loop 2x\n",
    "        ways = ways + countWaysHelper(n-i, m)\n",
    "        i = i + 1\n",
    "        print(\"i=\", i)\n",
    "        print(\"ways =\", ways)\n",
    "    return ways\n",
    "     \n",
    "# Returns number of ways to reach s'th stair    \n",
    "def countWays(s,m):\n",
    "    return countWaysHelper(s+1, m)\n",
    "     \n",
    " \n",
    "# Driver program\n",
    "steps, m = 3,3\n",
    "print (\"Number of ways =\",countWays(steps, m))"
   ]
  },
  {
   "cell_type": "code",
   "execution_count": 6,
   "metadata": {},
   "outputs": [
    {
     "name": "stdout",
     "output_type": "stream",
     "text": [
      "Nmber of ways = 13\n"
     ]
    }
   ],
   "source": [
    "def countWaysUtil(n,m):\n",
    "    res = [0 for x in range(n)] # Creates list res witth all elements 0\n",
    "    res[0],res[1] = 1,1\n",
    "     \n",
    "    for i in range(2,n):\n",
    "        j = 1\n",
    "        while j<= min(m,i):\n",
    "            res[i] = res[i] + res[i-j]\n",
    "            j = j + 1\n",
    "    return res[n-1]\n",
    " \n",
    "# Returns number of ways to reach s'th stair\n",
    "def countWays(s,m):\n",
    "    return countWaysUtil(s+1, m)\n",
    "     \n",
    "# Driver Program\n",
    "s,m = 5,3\n",
    "print (\"Nmber of ways =\",countWays(s,m)) #Expect 13"
   ]
  },
  {
   "cell_type": "code",
   "execution_count": 38,
   "metadata": {},
   "outputs": [
    {
     "name": "stdout",
     "output_type": "stream",
     "text": [
      "Number of ways = 4\n"
     ]
    }
   ],
   "source": []
  },
  {
   "cell_type": "code",
   "execution_count": 48,
   "metadata": {},
   "outputs": [
    {
     "ename": "RecursionError",
     "evalue": "maximum recursion depth exceeded in comparison",
     "output_type": "error",
     "traceback": [
      "\u001b[0;31m---------------------------------------------------------------------------\u001b[0m",
      "\u001b[0;31mRecursionError\u001b[0m                            Traceback (most recent call last)",
      "\u001b[0;32m<ipython-input-48-f75c8a07fa6b>\u001b[0m in \u001b[0;36m<module>\u001b[0;34m()\u001b[0m\n\u001b[1;32m     16\u001b[0m \u001b[0;31m# Driver program\u001b[0m\u001b[0;34m\u001b[0m\u001b[0;34m\u001b[0m\u001b[0m\n\u001b[1;32m     17\u001b[0m \u001b[0msteps\u001b[0m\u001b[0;34m,\u001b[0m \u001b[0mm\u001b[0m \u001b[0;34m=\u001b[0m \u001b[0;36m3\u001b[0m\u001b[0;34m,\u001b[0m\u001b[0;36m3\u001b[0m\u001b[0;34m\u001b[0m\u001b[0m\n\u001b[0;32m---> 18\u001b[0;31m \u001b[0mprint\u001b[0m \u001b[0;34m(\u001b[0m\u001b[0;34m\"Number of ways =\"\u001b[0m\u001b[0;34m,\u001b[0m\u001b[0mcountWays\u001b[0m\u001b[0;34m(\u001b[0m\u001b[0msteps\u001b[0m\u001b[0;34m,\u001b[0m \u001b[0mm\u001b[0m\u001b[0;34m)\u001b[0m\u001b[0;34m)\u001b[0m\u001b[0;34m\u001b[0m\u001b[0m\n\u001b[0m",
      "\u001b[0;32m<ipython-input-48-f75c8a07fa6b>\u001b[0m in \u001b[0;36mcountWays\u001b[0;34m(s, m)\u001b[0m\n\u001b[1;32m     11\u001b[0m \u001b[0;31m# Returns number of ways to reach s'th stair\u001b[0m\u001b[0;34m\u001b[0m\u001b[0;34m\u001b[0m\u001b[0m\n\u001b[1;32m     12\u001b[0m \u001b[0;32mdef\u001b[0m \u001b[0mcountWays\u001b[0m\u001b[0;34m(\u001b[0m\u001b[0ms\u001b[0m\u001b[0;34m,\u001b[0m\u001b[0mm\u001b[0m\u001b[0;34m)\u001b[0m\u001b[0;34m:\u001b[0m\u001b[0;34m\u001b[0m\u001b[0m\n\u001b[0;32m---> 13\u001b[0;31m     \u001b[0;32mreturn\u001b[0m \u001b[0mcountWaysHelper\u001b[0m\u001b[0;34m(\u001b[0m\u001b[0ms\u001b[0m\u001b[0;34m,\u001b[0m \u001b[0mm\u001b[0m\u001b[0;34m)\u001b[0m\u001b[0;34m\u001b[0m\u001b[0m\n\u001b[0m\u001b[1;32m     14\u001b[0m \u001b[0;34m\u001b[0m\u001b[0m\n\u001b[1;32m     15\u001b[0m \u001b[0;34m\u001b[0m\u001b[0m\n",
      "\u001b[0;32m<ipython-input-48-f75c8a07fa6b>\u001b[0m in \u001b[0;36mcountWaysHelper\u001b[0;34m(n, m)\u001b[0m\n\u001b[1;32m      6\u001b[0m     \u001b[0mways\u001b[0m \u001b[0;34m=\u001b[0m \u001b[0;36m0\u001b[0m\u001b[0;34m\u001b[0m\u001b[0m\n\u001b[1;32m      7\u001b[0m     \u001b[0;32mfor\u001b[0m \u001b[0mi\u001b[0m \u001b[0;32min\u001b[0m \u001b[0mrange\u001b[0m\u001b[0;34m(\u001b[0m\u001b[0;36m0\u001b[0m\u001b[0;34m,\u001b[0m \u001b[0mm\u001b[0m\u001b[0;34m)\u001b[0m\u001b[0;34m:\u001b[0m\u001b[0;34m\u001b[0m\u001b[0m\n\u001b[0;32m----> 8\u001b[0;31m         \u001b[0mways\u001b[0m \u001b[0;34m=\u001b[0m \u001b[0mways\u001b[0m \u001b[0;34m+\u001b[0m \u001b[0mcountWaysHelper\u001b[0m\u001b[0;34m(\u001b[0m\u001b[0mn\u001b[0m\u001b[0;34m-\u001b[0m\u001b[0mi\u001b[0m\u001b[0;34m,\u001b[0m \u001b[0mm\u001b[0m\u001b[0;34m)\u001b[0m\u001b[0;34m\u001b[0m\u001b[0m\n\u001b[0m\u001b[1;32m      9\u001b[0m     \u001b[0;32mreturn\u001b[0m \u001b[0mways\u001b[0m\u001b[0;34m\u001b[0m\u001b[0m\n\u001b[1;32m     10\u001b[0m \u001b[0;34m\u001b[0m\u001b[0m\n",
      "... last 1 frames repeated, from the frame below ...\n",
      "\u001b[0;32m<ipython-input-48-f75c8a07fa6b>\u001b[0m in \u001b[0;36mcountWaysHelper\u001b[0;34m(n, m)\u001b[0m\n\u001b[1;32m      6\u001b[0m     \u001b[0mways\u001b[0m \u001b[0;34m=\u001b[0m \u001b[0;36m0\u001b[0m\u001b[0;34m\u001b[0m\u001b[0m\n\u001b[1;32m      7\u001b[0m     \u001b[0;32mfor\u001b[0m \u001b[0mi\u001b[0m \u001b[0;32min\u001b[0m \u001b[0mrange\u001b[0m\u001b[0;34m(\u001b[0m\u001b[0;36m0\u001b[0m\u001b[0;34m,\u001b[0m \u001b[0mm\u001b[0m\u001b[0;34m)\u001b[0m\u001b[0;34m:\u001b[0m\u001b[0;34m\u001b[0m\u001b[0m\n\u001b[0;32m----> 8\u001b[0;31m         \u001b[0mways\u001b[0m \u001b[0;34m=\u001b[0m \u001b[0mways\u001b[0m \u001b[0;34m+\u001b[0m \u001b[0mcountWaysHelper\u001b[0m\u001b[0;34m(\u001b[0m\u001b[0mn\u001b[0m\u001b[0;34m-\u001b[0m\u001b[0mi\u001b[0m\u001b[0;34m,\u001b[0m \u001b[0mm\u001b[0m\u001b[0;34m)\u001b[0m\u001b[0;34m\u001b[0m\u001b[0m\n\u001b[0m\u001b[1;32m      9\u001b[0m     \u001b[0;32mreturn\u001b[0m \u001b[0mways\u001b[0m\u001b[0;34m\u001b[0m\u001b[0m\n\u001b[1;32m     10\u001b[0m \u001b[0;34m\u001b[0m\u001b[0m\n",
      "\u001b[0;31mRecursionError\u001b[0m: maximum recursion depth exceeded in comparison"
     ]
    }
   ],
   "source": [
    "# Recursive function used by countWays\n",
    "def countWaysHelper(n, m):\n",
    "    if n <= 1:\n",
    "        return n\n",
    "    \n",
    "    ways = 0\n",
    "    for i in range(0, m):\n",
    "        ways = ways + countWaysHelper(n-i, m)\n",
    "    return ways\n",
    "     \n",
    "# Returns number of ways to reach s'th stair    \n",
    "def countWays(s,m):\n",
    "    return countWaysHelper(s, m)\n",
    "     \n",
    " \n",
    "# Driver program\n",
    "steps, m = 3,3\n",
    "print (\"Number of ways =\",countWays(steps, m))"
   ]
  },
  {
   "cell_type": "code",
   "execution_count": null,
   "metadata": {
    "collapsed": true
   },
   "outputs": [],
   "source": []
  }
 ],
 "metadata": {
  "kernelspec": {
   "display_name": "Python 3",
   "language": "python",
   "name": "python3"
  },
  "language_info": {
   "codemirror_mode": {
    "name": "ipython",
    "version": 3
   },
   "file_extension": ".py",
   "mimetype": "text/x-python",
   "name": "python",
   "nbconvert_exporter": "python",
   "pygments_lexer": "ipython3",
   "version": "3.6.0"
  }
 },
 "nbformat": 4,
 "nbformat_minor": 2
}
