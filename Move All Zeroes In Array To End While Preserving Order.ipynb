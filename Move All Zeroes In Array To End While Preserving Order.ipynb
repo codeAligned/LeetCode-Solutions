{
 "cells": [
  {
   "cell_type": "markdown",
   "metadata": {},
   "source": [
    "## Leetcode 283. Move Zeroes"
   ]
  },
  {
   "cell_type": "raw",
   "metadata": {},
   "source": [
    "Given an array nums, write a function to move all 0's to the end of it while maintaining the relative order of the non-zero elements.\n",
    "\n",
    "For example, given nums = [0, 1, 0, 3, 2], after calling your function, nums should be [1, 3, 12, 0, 0].\n",
    "\n",
    "Note:\n",
    "You must do this in-place without making a copy of the array.\n",
    "Minimize the total number of operations."
   ]
  },
  {
   "cell_type": "markdown",
   "metadata": {},
   "source": [
    "a) sees 0, LNZ = 0, i = 0. Does nothing                            = [0,1,0,3,2]\n",
    "b) sees 1, LNZ = 0, i = 1. Swaps arr[0] with arr[1]. LNZ++         = [1,0,0,3,2]\n",
    "c) sees 0, LNZ = 1, i = 2. Does nothing                            = [1,0,0,3,2]\n",
    "d) sees 3, LNZ = 1, i = 3. Swaps arr[1] and arr[3]. LNZ++          = [1,3,0,0,2]\n",
    "e) sees 2, LNZ = 2, i = 4. Swaps arr[2] and arr[4]. LNZ++          = [1,3,2,0,0]\n",
    "Ends LNZ = 3, i = 4. Returns [1,3,2,0,0]."
   ]
  },
  {
   "cell_type": "code",
   "execution_count": 12,
   "metadata": {},
   "outputs": [
    {
     "name": "stdout",
     "output_type": "stream",
     "text": [
      "[1, 3, 2, 0, 0]\n"
     ]
    }
   ],
   "source": [
    "def moveZeroes(arr):\n",
    "    lastNonZeroIndex = 0 #keep track of nonzero index, whenever \n",
    "    for i in range(0, len(arr)):\n",
    "        if arr[i] != 0:\n",
    "            arr[lastNonZeroIndex], arr[i] = arr[i], arr[lastNonZeroIndex]\n",
    "            lastNonZeroIndex += 1\n",
    "\n",
    "    return arr\n",
    "\n",
    "\n",
    "print(moveZeroes([0,1,0,3,2]))"
   ]
  },
  {
   "cell_type": "code",
   "execution_count": 10,
   "metadata": {},
   "outputs": [
    {
     "name": "stdout",
     "output_type": "stream",
     "text": [
      "[1, 3, 2, 0, 0]\n"
     ]
    }
   ],
   "source": [
    "#sort using lambda expresion.\n",
    "def moveZeroes(nums):\n",
    "    nums.sort(key = lambda x: 1 if x == 0 else 0)\n",
    "    return nums\n",
    "    \n",
    "\n",
    "print(moveZeroes([0,1,0,3,2]))"
   ]
  },
  {
   "cell_type": "code",
   "execution_count": null,
   "metadata": {
    "collapsed": true
   },
   "outputs": [],
   "source": []
  }
 ],
 "metadata": {
  "kernelspec": {
   "display_name": "Python 3",
   "language": "python",
   "name": "python3"
  },
  "language_info": {
   "codemirror_mode": {
    "name": "ipython",
    "version": 3
   },
   "file_extension": ".py",
   "mimetype": "text/x-python",
   "name": "python",
   "nbconvert_exporter": "python",
   "pygments_lexer": "ipython3",
   "version": "3.6.0"
  }
 },
 "nbformat": 4,
 "nbformat_minor": 2
}
