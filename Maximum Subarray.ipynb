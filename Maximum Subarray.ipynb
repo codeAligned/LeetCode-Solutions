{
 "cells": [
  {
   "cell_type": "markdown",
   "metadata": {},
   "source": [
    "# Bloomberg - Maximum Subarray "
   ]
  },
  {
   "cell_type": "raw",
   "metadata": {},
   "source": [
    "#Use optimal solution 2nd last, last one includes start/end indicies\n",
    "\n",
    "Find the contiguous subarray within an array (containing at least one number) which has the largest sum.\n",
    "\n",
    "For example, given the array [-2,1,-3,4,-1,2,1,-5,4],\n",
    "the contiguous subarray [4,-1,2,1] has the largest sum = 6."
   ]
  },
  {
   "cell_type": "raw",
   "metadata": {},
   "source": [
    "Kadane's Algorithm\n",
    "Initialize:\n",
    "    max_so_far = 0\n",
    "    max_ending_here = 0\n",
    "\n",
    "Loop for each element of the array\n",
    "  (a) max_ending_here = max_ending_here + a[i]\n",
    "  (b) if(max_ending_here < 0)\n",
    "            max_ending_here = 0\n",
    "            #for when you see negative elements at the start, just ignore them, start from 0 at first positive num.\n",
    "  (c) if(max_so_far < max_ending_here)\n",
    "            max_so_far = max_ending_here\n",
    "return max_so_far\n",
    "\n",
    "\n",
    "Essentially, checking [0:1], [0:2] ... [0:n], then [1:2] ... [1:n], then [2:3] ... [2:n], etc.\n",
    "If any of these sums exceeds max_so_far, updates max_so_far.\n",
    "\n",
    "Returns 0 for array with all negative numbers."
   ]
  },
  {
   "cell_type": "code",
   "execution_count": 11,
   "metadata": {},
   "outputs": [
    {
     "name": "stdout",
     "output_type": "stream",
     "text": [
      "-5\n",
      "Maximum contiguous sum is 7\n"
     ]
    }
   ],
   "source": [
    "#Time Complexity O(n^2)\n",
    "def maxSubArraySum(a,size):\n",
    "\n",
    "    greatest = a[0] #largest num in list a\n",
    "    for num in a:\n",
    "        if num > greatest:\n",
    "            greatest = num\n",
    "    max_so_far = -greatest - 1\n",
    "    max_ending_here = 0\n",
    "      \n",
    "    for i in range(0, size):\n",
    "        max_ending_here = max_ending_here + a[i]\n",
    "        if (max_so_far < max_ending_here):\n",
    "            max_so_far = max_ending_here\n",
    " \n",
    "        if max_ending_here < 0:\n",
    "            max_ending_here = 0  \n",
    "    return max_so_far\n",
    "  \n",
    "# Driver function to check the above function \n",
    "a = [-2, -3, 4, -1, -2, 1, 5, -3]\n",
    "print(\"Maximum contiguous sum is\", maxSubArraySum(a,len(a)))\n",
    "#correct maximum subarray is [4, -1, -2, 1, 5]"
   ]
  },
  {
   "cell_type": "code",
   "execution_count": 13,
   "metadata": {},
   "outputs": [
    {
     "name": "stdout",
     "output_type": "stream",
     "text": [
      "Maximum contiguous sum is 7\n"
     ]
    }
   ],
   "source": [
    "#Time Complexity O(n^2)\n",
    "def maxSubArraySum(a,size):\n",
    "     \n",
    "    max_so_far = 0\n",
    "    max_ending_here = 0\n",
    "     \n",
    "    for i in range(0, size):\n",
    "        max_ending_here = max_ending_here + a[i]\n",
    "        if max_ending_here < 0:\n",
    "            max_ending_here = 0\n",
    "         \n",
    "        # Do not compare for all elements. Compare only   \n",
    "        # when max_ending_here > 0\n",
    "        elif (max_so_far < max_ending_here):\n",
    "            max_so_far = max_ending_here\n",
    "             \n",
    "    return max_so_far\n",
    "# Driver function to check the above function \n",
    "a = [-2, -3, 4, -1, -2, 1, 5, -3]\n",
    "print(\"Maximum contiguous sum is\", maxSubArraySum(a,len(a)))\n",
    "#correct maximum subarray is [4, -1, -2, 1, 5]"
   ]
  },
  {
   "cell_type": "code",
   "execution_count": 3,
   "metadata": {},
   "outputs": [
    {
     "name": "stdout",
     "output_type": "stream",
     "text": [
      "Maximum contiguous sum is 7\n"
     ]
    }
   ],
   "source": [
    "#Time Complexity O(n) -> Only traverses list once\n",
    "#Updating max at every element\n",
    " \n",
    "def maxSubArraySum(a,size):\n",
    "     \n",
    "    max_sum = a[0]\n",
    "    run_sum = a[0]\n",
    "\n",
    "    for i in range(1,size):\n",
    "        run_sum = max(a[i], run_sum + a[i]) #By taking the max of a[i] and currmax+a[i], discards any previously negative curr_maxes\n",
    "        max_sum = max(max_sum, run_sum)\n",
    "        \n",
    "    return max_sum\n",
    " \n",
    "# Driver function to check the above function \n",
    "a = [-2, -3, 4, -1, -2, 1, 5, -3]\n",
    "print(\"Maximum contiguous sum is\" , maxSubArraySum(a,len(a)))\n"
   ]
  },
  {
   "cell_type": "code",
   "execution_count": 74,
   "metadata": {},
   "outputs": [
    {
     "name": "stdout",
     "output_type": "stream",
     "text": [
      "Maximum contiguous sum is: [4, -1, -2, 1, 5]\n",
      "Start/End Indicies: 2 , 6\n",
      "Max Sum: 7\n"
     ]
    }
   ],
   "source": [
    "#Same solution as above with start/end indicies\n",
    "\n",
    "def subArraySum( A ):\n",
    "    m = [0] * len( A )\n",
    "    startingIndex = len( A ) - 1\n",
    "    endingIndex = 0\n",
    "\n",
    "    # find endingIndex\n",
    "    m[0] = A[0]\n",
    "    for i in range( 1, len( A ) ):\n",
    "        m[i] = max( A[i], m[i - 1] + A[i] )\n",
    "        #additional check for end-idx\n",
    "        if ( m[endingIndex] < m[i] ):\n",
    "            endingIndex = i\n",
    "        #print(\"endingIndex:\", endingIndex)\n",
    "\n",
    "    # find startingIndex\n",
    "    m = [0] * len( A )\n",
    "    m[len( A ) - 1] = A[len( A ) - 1]\n",
    "    for i in range( len( A ) - 2, -1, -1 ):\n",
    "        m[i] = max( A[i], m[i + 1] + A[i] )\n",
    "        if m[startingIndex] < m[i]:\n",
    "            startingIndex = i\n",
    "        #print(\"startingIndex:\", startingIndex)\n",
    "\n",
    "    if endingIndex <= startingIndex:\n",
    "        return None # no array size less than 2 allowed\n",
    "\n",
    "    result = [A[startingIndex:endingIndex + 1], startingIndex, endingIndex]\n",
    "\n",
    "    return result\n",
    "\n",
    "# Driver function to check the above function \n",
    "a = [-2, -3, 4, -1, -2, 1, 5, -3]\n",
    "print(\"Maximum contiguous sum is:\" , subArraySum(a)[0])\n",
    "print(\"Start/End Indicies:\", subArraySum(a)[1], \",\", subArraySum(a)[2])\n",
    "print(\"Max Sum:\", sum(subArraySum(a)[0]))"
   ]
  },
  {
   "cell_type": "code",
   "execution_count": null,
   "metadata": {
    "collapsed": true
   },
   "outputs": [],
   "source": []
  },
  {
   "cell_type": "code",
   "execution_count": null,
   "metadata": {
    "collapsed": true
   },
   "outputs": [],
   "source": []
  }
 ],
 "metadata": {
  "kernelspec": {
   "display_name": "Python 3",
   "language": "python",
   "name": "python3"
  },
  "language_info": {
   "codemirror_mode": {
    "name": "ipython",
    "version": 3
   },
   "file_extension": ".py",
   "mimetype": "text/x-python",
   "name": "python",
   "nbconvert_exporter": "python",
   "pygments_lexer": "ipython3",
   "version": "3.6.0"
  }
 },
 "nbformat": 4,
 "nbformat_minor": 2
}
