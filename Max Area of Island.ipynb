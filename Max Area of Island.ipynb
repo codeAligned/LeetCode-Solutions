{
 "cells": [
  {
   "cell_type": "raw",
   "metadata": {},
   "source": [
    "Given a non-empty 2D array grid of 0's and 1's, an island is a group of 1's (representing land) connected 4-directionally (horizontal or vertical.) You may assume all four edges of the grid are surrounded by water.\n",
    "\n",
    "Find the maximum area of an island in the given 2D array. (If there is no island, the maximum area is 0.)"
   ]
  },
  {
   "cell_type": "code",
   "execution_count": 10,
   "metadata": {},
   "outputs": [
    {
     "data": {
      "text/plain": [
       "6"
      ]
     },
     "execution_count": 10,
     "metadata": {},
     "output_type": "execute_result"
    }
   ],
   "source": [
    "#BFS (Flood Fill)\n",
    "#Time & Space: O(R*C) (row*column)\n",
    "\n",
    "class Solution(object):\n",
    "    def maxAreaOfIsland(self, grid):\n",
    "        \"\"\"\n",
    "        :type grid: List[List[int]]\n",
    "        :rtype: int\n",
    "        \"\"\"\n",
    "        ans = 0\n",
    "        for x in range(len(grid)):\n",
    "            for y in range(len(grid[0])):\n",
    "                if grid[x][y]:\n",
    "                    ans = max(ans, self.bfs(grid, x, y))\n",
    "        return ans\n",
    "    \n",
    "    def bfs(self, grid, x, y):\n",
    "        dxs = [1, 0, -1, 0]\n",
    "        dys = [0, 1, 0, -1]\n",
    "        queue = [(x, y)]\n",
    "        grid[x][y] = 0\n",
    "        ans = 0\n",
    "        while queue:\n",
    "            x, y = queue.pop(0)\n",
    "            ans += 1\n",
    "            for dx, dy in zip(dxs, dys):\n",
    "                nx, ny = x + dx, y + dy\n",
    "                if 0 <= nx < len(grid) and 0 <= ny < len(grid[0]):\n",
    "                    if grid[nx][ny]:\n",
    "                        grid[nx][ny] = 0\n",
    "                        queue.append((nx, ny))\n",
    "        return ans\n",
    "\n",
    "    \n",
    "    \n",
    "    \n",
    "    \n",
    "islandarr = [[0,0,1,0,0,0,0,1,0,0,0,0,0],\n",
    "             [0,0,0,0,0,0,0,1,1,1,0,0,0],\n",
    "             [0,1,1,0,1,0,0,0,0,0,0,0,0],\n",
    "             [0,1,0,0,1,1,0,0,1,0,1,0,0],\n",
    "             [0,1,0,0,1,1,0,0,1,2,1,0,0],\n",
    "             [0,0,0,0,0,0,0,0,0,0,1,0,0],\n",
    "             [0,0,0,0,0,0,0,1,1,1,0,0,0],\n",
    "             [0,0,0,0,0,0,0,1,1,0,0,0,0]]\n",
    "\n",
    "s = Solution()\n",
    "s.maxAreaOfIsland(islandarr)\n",
    "\n"
   ]
  },
  {
   "cell_type": "code",
   "execution_count": 14,
   "metadata": {},
   "outputs": [
    {
     "data": {
      "text/plain": [
       "5"
      ]
     },
     "execution_count": 14,
     "metadata": {},
     "output_type": "execute_result"
    }
   ],
   "source": [
    "#DFS (Recursive)\n",
    "#Time & Space: O(R*C) (row*column)\n",
    "\n",
    "class Solution(object):\n",
    "    def maxAreaOfIsland(self, grid):\n",
    "        seen = set()\n",
    "        \n",
    "        def area(r, c):\n",
    "            if not (0 <= r < len(grid) and 0 <= c < len(grid[0])   #if not all valid conditions -> {out of bounds,\n",
    "                    and (r, c) not in seen and grid[r][c]):        #and if index (r,c) seen (r,c) and not 1 (is water)}\n",
    "                return 0                                           #return 0\n",
    "            \n",
    "            seen.add((r, c))                                       #else add to seen\n",
    "            return (1 + area(r+1, c) + area(r-1, c) +              #return 1+area(top, left, down, right) (DFS)\n",
    "                    area(r, c-1) + area(r, c+1))\n",
    "\n",
    "        return max(area(r, c)                                      #Calls area(r,c) on all elements in array\n",
    "                   for r in range(len(grid))\n",
    "                   for c in range(len(grid[0])))\n",
    "    \n",
    "islandarr = [[0,0,1,0,0,0,0,1,0,0,0,0,0],\n",
    "             [0,0,0,0,0,0,0,1,1,1,0,0,0],\n",
    "             [0,1,1,0,1,0,0,0,0,0,0,0,0],\n",
    "             [0,1,0,0,1,1,0,0,1,0,1,0,0],\n",
    "             [0,1,0,0,1,1,0,0,1,2,1,0,0],\n",
    "             [0,0,0,0,0,0,0,0,0,0,1,0,0],\n",
    "             [0,0,0,0,0,0,0,1,1,1,0,0,0],\n",
    "             [0,0,0,0,0,0,0,1,1,0,0,0,0]]\n",
    "\n",
    "s = Solution()\n",
    "s.maxAreaOfIsland(islandarr)\n",
    "\n"
   ]
  },
  {
   "cell_type": "code",
   "execution_count": 61,
   "metadata": {},
   "outputs": [
    {
     "data": {
      "text/plain": [
       "4"
      ]
     },
     "execution_count": 61,
     "metadata": {},
     "output_type": "execute_result"
    }
   ],
   "source": [
    "class Solution(object):\n",
    "    \n",
    "    def maxAreaOfIsland(self, grid):\n",
    "        seen = set()\n",
    "        \n",
    "        \n",
    "        def area(r,c, repeatnum):\n",
    "            \n",
    "            if not (0<=r<len(grid) and 0<=c<len(grid[0]) and (r,c) not in seen and grid[r][c]!=0 and grid[r][c] not in repeatnum):\n",
    "                return 0\n",
    "            seen.add((r,c))\n",
    "            repeatnum.add(grid[r][c])\n",
    "            return (1+area(r+1,c, repeatnum) + area(r-1, c, repeatnum) + area(r, c+1, repeatnum) + area(r, c-1, repeatnum))\n",
    "            \n",
    "        maxans = 0\n",
    "        for r in range(len(grid)):\n",
    "            for c in range (len(grid[0])):\n",
    "                repeatnum = set()\n",
    "                maxans = max(area(r,c, repeatnum), maxans)\n",
    "                \n",
    "        return maxans\n",
    "\n",
    "    \n",
    "    \n",
    "    \n",
    "islandarr = [[0,0,1,0,0,0,0,1,0,0,0,0,0],\n",
    "             [0,0,0,0,0,0,0,1,1,1,0,0,0],\n",
    "             [0,0,1,0,1,2,0,0,0,0,0,0,0],\n",
    "             [0,1,0,0,0,0,0,0,0,0,4,0,0],\n",
    "             [0,1,0,0,2,1,0,0,2,2,3,0,0],\n",
    "             [0,0,0,0,0,0,0,0,0,0,5,0,0],\n",
    "             [0,0,0,0,0,0,0,1,0,0,0,0,0],\n",
    "             [0,0,0,0,0,0,0,1,1,0,0,0,0]]\n",
    "\n",
    "s = Solution()\n",
    "s.maxAreaOfIsland(islandarr)"
   ]
  },
  {
   "cell_type": "code",
   "execution_count": 69,
   "metadata": {},
   "outputs": [
    {
     "data": {
      "text/plain": [
       "6"
      ]
     },
     "execution_count": 69,
     "metadata": {},
     "output_type": "execute_result"
    }
   ],
   "source": [
    "#BFS (Flood Fill)\n",
    "#Time & Space: O(R*C) (row*column)\n",
    "\n",
    "class Solution(object):\n",
    "    def maxAreaOfIsland(self, grid):\n",
    "        \"\"\"\n",
    "        :type grid: List[List[int]]\n",
    "        :rtype: int\n",
    "        \"\"\"\n",
    "        ans = 0\n",
    "        for x in range(len(grid)):\n",
    "            for y in range(len(grid[0])):\n",
    "                if grid[x][y]:\n",
    "                    ans = max(ans, self.bfs(grid, x, y))\n",
    "        return ans\n",
    "    \n",
    "    def bfs(self, grid, x, y):\n",
    "        dxs = [1, 0, -1, 0]\n",
    "        dys = [0, 1, 0, -1]\n",
    "        queue = [(x, y)]\n",
    "        grid[x][y] = 0\n",
    "        ans = 0\n",
    "        while queue:\n",
    "            x, y = queue.pop(0)\n",
    "            ans += 1\n",
    "            for dx, dy in zip(dxs, dys):\n",
    "                nx, ny = x + dx, y + dy\n",
    "                if 0 <= nx < len(grid) and 0 <= ny < len(grid[0]):\n",
    "                    if grid[nx][ny]:\n",
    "                        grid[nx][ny] = 0\n",
    "                        queue.append((nx, ny))\n",
    "        return ans\n",
    "\n",
    "    \n",
    "    \n",
    "    \n",
    "    \n",
    "islandarr = [[0,0,1,0,0,0,0,1,0,0,0,0,0],\n",
    "             [0,0,0,0,0,0,0,1,1,1,0,0,0],\n",
    "             [0,1,1,0,1,0,0,0,0,0,0,0,0],\n",
    "             [0,1,0,0,1,1,0,0,1,0,1,0,0],\n",
    "             [0,1,0,0,1,1,0,0,1,2,1,0,0],\n",
    "             [0,0,0,0,0,0,0,0,0,0,1,0,0],\n",
    "             [0,0,0,0,0,0,0,1,1,1,0,0,0],\n",
    "             [0,0,0,0,0,0,0,1,1,0,0,0,0]]\n",
    "\n",
    "s = Solution()\n",
    "s.maxAreaOfIsland(islandarr)\n",
    "\n"
   ]
  },
  {
   "cell_type": "code",
   "execution_count": 70,
   "metadata": {},
   "outputs": [
    {
     "data": {
      "text/plain": [
       "6"
      ]
     },
     "execution_count": 70,
     "metadata": {},
     "output_type": "execute_result"
    }
   ],
   "source": [
    "#BFS (Flood Fill)\n",
    "#Time & Space: O(R*C) (row*column)\n",
    "\n",
    "class Solution(object):\n",
    "    def maxAreaOfIsland(self, grid):\n",
    "        ans = 0\n",
    "        for r in range (len(grid)):\n",
    "            for c in range (len(grid[0])):\n",
    "                if grid[r][c]:\n",
    "                    ans = max(ans, self.bfs(grid, r,c))\n",
    "        return ans\n",
    "\n",
    "    def bfs(self, grid, x, y):\n",
    "        dxs = [1, 0, -1, 0]\n",
    "        dys = [0, 1, 0, -1]\n",
    "        queue = [(x, y)]\n",
    "        grid[x][y] = 0\n",
    "        ans = 0\n",
    "        while queue:\n",
    "            x,y  = queue.pop(0)\n",
    "            ans +=1\n",
    "            for dx, dy in zip(dxs, dys):\n",
    "                nx, ny = x+dx, y+dy\n",
    "                if 0<=nx<len(grid) and 0<=ny<len(grid[0]):\n",
    "                    if grid[nx][ny]:\n",
    "                        grid[nx][ny] = 0\n",
    "                        queue.append((nx, ny))\n",
    "        return ans\n",
    "    \n",
    "    \n",
    "    \n",
    "    \n",
    "islandarr = [[0,0,1,0,0,0,0,1,0,0,0,0,0],\n",
    "             [0,0,0,0,0,0,0,1,1,1,0,0,0],\n",
    "             [0,1,1,0,1,0,0,0,0,0,0,0,0],\n",
    "             [0,1,0,0,1,1,0,0,1,0,1,0,0],\n",
    "             [0,1,0,0,1,1,0,0,1,2,1,0,0],\n",
    "             [0,0,0,0,0,0,0,0,0,0,1,0,0],\n",
    "             [0,0,0,0,0,0,0,1,1,1,0,0,0],\n",
    "             [0,0,0,0,0,0,0,1,1,0,0,0,0]]\n",
    "\n",
    "s = Solution()\n",
    "s.maxAreaOfIsland(islandarr)\n",
    "\n"
   ]
  },
  {
   "cell_type": "code",
   "execution_count": null,
   "metadata": {
    "collapsed": true
   },
   "outputs": [],
   "source": []
  }
 ],
 "metadata": {
  "kernelspec": {
   "display_name": "Python 3",
   "language": "python",
   "name": "python3"
  },
  "language_info": {
   "codemirror_mode": {
    "name": "ipython",
    "version": 3
   },
   "file_extension": ".py",
   "mimetype": "text/x-python",
   "name": "python",
   "nbconvert_exporter": "python",
   "pygments_lexer": "ipython3",
   "version": "3.6.0"
  }
 },
 "nbformat": 4,
 "nbformat_minor": 2
}
