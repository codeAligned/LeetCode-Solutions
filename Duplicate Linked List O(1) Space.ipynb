{
 "cells": [
  {
   "cell_type": "markdown",
   "metadata": {},
   "source": [
    "## Duplicate Linked List O(1) Space, O(n) Time"
   ]
  },
  {
   "cell_type": "raw",
   "metadata": {},
   "source": [
    "Given list 1 -> 2 -> 3\n",
    "\n",
    "a) Insert copy of each node after original node\n",
    "1 -> Copy(1) -> 2 -> Copy(2) -> 3 -> Copy(3)\n",
    "\n",
    "b) Now go through list again and loop from head to second last element (head.next != None)\n",
    "   For all these elements make curr.next = curr.next.next. Now both lists will be valid.\n",
    "   (Remember to keep track of original list head (first element) and new list head (second element)\n",
    "   \n",
    "   1 -> Copy(1) -> 2 -> Copy(2) -> 3 -> Copy(3)\n",
    "   1 -> 2 -> 3,    Copy(1) -> Copy(2) -> Copy(3)\n"
   ]
  },
  {
   "cell_type": "code",
   "execution_count": 8,
   "metadata": {},
   "outputs": [
    {
     "name": "stdout",
     "output_type": "stream",
     "text": [
      "list 1\n",
      "val:  1\n",
      "id:  4409320504\n",
      "val:  2\n",
      "id:  4408744760\n",
      "val:  3\n",
      "id:  4409351472\n",
      "\n",
      "list 2\n",
      "val:  1\n",
      "id:  4409322800\n",
      "val:  2\n",
      "id:  4409322296\n",
      "val:  3\n",
      "id:  4409323472\n"
     ]
    }
   ],
   "source": [
    "class Node(object):\n",
    "    def __init__(self, x):\n",
    "        self.val = x\n",
    "        self.next = None\n",
    "\n",
    "def printList(head):\n",
    "    while head != None:\n",
    "        print(\"val: \", head.val)\n",
    "        print(\"id: \", id(head))\n",
    "        head = head.next\n",
    "        \n",
    "\n",
    "def constantSpaceCopy(originalHead):\n",
    "    head = originalHead\n",
    "    \n",
    "    #add copy of node right after itself.\n",
    "    while head != None:\n",
    "        cpy = Node(head.val)\n",
    "        cpy.next = head.next\n",
    "        head.next = cpy\n",
    "        head = cpy.next\n",
    "    \n",
    "    head = originalHead #set pointer back to beginning\n",
    "    newHead = head.next #2nd element = start of new list\n",
    "    \n",
    "    #loop through again and make curr.next = curr.next.next\n",
    "    while head.next != None:\n",
    "        temp = head.next\n",
    "        head.next = head.next.next\n",
    "        head = temp\n",
    "    \n",
    "    print(\"list 1\")\n",
    "    printList(originalHead)\n",
    "    print(\"\\nlist 2\")\n",
    "    printList(newHead)\n",
    "    #return(originalHead, newHead)\n",
    "\n",
    "head = Node(1)\n",
    "head.next = Node(2)\n",
    "head.next.next = Node(3)\n",
    "\n",
    "constantSpaceCopy(head)\n",
    "\n",
    "\n"
   ]
  }
 ],
 "metadata": {
  "kernelspec": {
   "display_name": "Python 3",
   "language": "python",
   "name": "python3"
  },
  "language_info": {
   "codemirror_mode": {
    "name": "ipython",
    "version": 3
   },
   "file_extension": ".py",
   "mimetype": "text/x-python",
   "name": "python",
   "nbconvert_exporter": "python",
   "pygments_lexer": "ipython3",
   "version": "3.6.0"
  }
 },
 "nbformat": 4,
 "nbformat_minor": 2
}
