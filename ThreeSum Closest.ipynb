{
 "cells": [
  {
   "cell_type": "raw",
   "metadata": {},
   "source": [
    "#Coursera\n",
    "Given an array S of n integers, find three integers in S such that the sum is closest to a given number, target. Return the sum of the three integers. You may assume that each input would have exactly one solution.\n",
    "\n",
    "For example, given array S = {-1 2 1 -4}, and target = 1.\n",
    "\n",
    "    The sum that is closest to the target is 2. (-1 + 2 + 1 = 2)."
   ]
  },
  {
   "cell_type": "raw",
   "metadata": {},
   "source": [
    "Approach:\n",
    "\n",
    "1) Loop through array with index i. left=i+1, right=len(arr)-1. So for each number in arr we do i, left, right check.\n",
    "2) While left < right. Each iteration check if diff < mindiff, if yes update.\n",
    "3) Then if sum = target return, if sum < target, increment left, sum > target decrement left.\n"
   ]
  },
  {
   "cell_type": "code",
   "execution_count": 11,
   "metadata": {},
   "outputs": [
    {
     "data": {
      "text/plain": [
       "2"
      ]
     },
     "execution_count": 11,
     "metadata": {},
     "output_type": "execute_result"
    }
   ],
   "source": [
    "def threeSumClosest(num, target):    \n",
    "    num.sort() #sort first\n",
    "    mindiff = abs((num[0]+num[1]+num[2]) - target) #dist of first 3 nums from target\n",
    "\n",
    "    res=0\n",
    "    for i in range(len(num)):\n",
    "        left=i+1\n",
    "        right=len(num)-1\n",
    "        \n",
    "        while left<right:\n",
    "            sum = num[i]+num[left]+num[right]   #sum = sum of 3 numbers at index i, left, right\n",
    "            diff = abs(sum-target)\n",
    "            \n",
    "            #if found smaller diff, update mindiff\n",
    "            if diff < mindiff:\n",
    "                mindiff = diff\n",
    "                res = sum\n",
    "            \n",
    "            #if equal return, if smaller incremement left, if larger decrement right\n",
    "            if sum == target:\n",
    "                return sum\n",
    "            elif sum < target:\n",
    "                left+=1\n",
    "            else:\n",
    "                right-=1\n",
    "                \n",
    "    return res\n",
    "\n",
    "arr = [-1, 2, 1, -4]\n",
    "threeSumClosest(arr, 1)"
   ]
  },
  {
   "cell_type": "code",
   "execution_count": null,
   "metadata": {
    "collapsed": true
   },
   "outputs": [],
   "source": []
  }
 ],
 "metadata": {
  "kernelspec": {
   "display_name": "Python 3",
   "language": "python",
   "name": "python3"
  },
  "language_info": {
   "codemirror_mode": {
    "name": "ipython",
    "version": 3
   },
   "file_extension": ".py",
   "mimetype": "text/x-python",
   "name": "python",
   "nbconvert_exporter": "python",
   "pygments_lexer": "ipython3",
   "version": "3.6.0"
  }
 },
 "nbformat": 4,
 "nbformat_minor": 2
}
