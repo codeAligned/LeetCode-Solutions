{
 "cells": [
  {
   "cell_type": "raw",
   "metadata": {},
   "source": [
    "The idea is simple, we calculate longest path beginning with every cell. Once we have computed longest for all cells, we return maximum of all longest paths. One important observation in this approach is many overlapping subproblems. Therefore this problem can be optimally solved using Dynamic Programming."
   ]
  },
  {
   "cell_type": "code",
   "execution_count": 14,
   "metadata": {},
   "outputs": [
    {
     "name": "stdout",
     "output_type": "stream",
     "text": [
      "1 2 9\n",
      "5 3 8\n",
      "4 6 7\n",
      "[6, 7, 8, 9] 4\n"
     ]
    }
   ],
   "source": [
    "mtrx=[[1, 2, 9],[5, 3, 8],[4, 6, 7]]\n",
    "for i in mtrx:\n",
    "    print(*i,sep=\" \")\n",
    "arr=[]\n",
    "for i in range(3):\n",
    "    for j in range(3):\n",
    "        arr.append(mtrx[i][j])\n",
    "\n",
    "        \n",
    "        \n",
    "def path_unity(val):\n",
    "   for i in mtrx:\n",
    "      if val in i:\n",
    "         col=i.index(val)\n",
    "         row=mtrx.index(i)\n",
    "         #print(row,col)\n",
    "   path,rc=[val],[int(str(row)+str(col))]\n",
    "   while True:\n",
    "    flag=0\n",
    "    for i in range(3):\n",
    "      for j in range(3):\n",
    "        if mtrx[i][j]-val==1 and (i==row or j==col) and int(str(i)+str(j)) not in rc:\n",
    "             flag=1\n",
    "             path.append(mtrx[i][j])\n",
    "             rc.append(int((str(i)+str(j))))\n",
    "             val=mtrx[i][j]\n",
    "             row,col=i,j\n",
    "        if flag==1: break\n",
    "      if flag==1: break\n",
    "    if flag==0: break\n",
    "   return path\n",
    "\n",
    "\n",
    "\n",
    "long=[]\n",
    "val_=[]\n",
    "for i in range(len(arr)):\n",
    "   long.append(len(path_unity(arr[i])))\n",
    "   val_.append(i)\n",
    "long_path=max(long)\n",
    "index=(val_[long.index(long_path)])\n",
    "print(path_unity(arr[index]),long_path)\n",
    "\n",
    "## author--> sayan chandra"
   ]
  },
  {
   "cell_type": "code",
   "execution_count": null,
   "metadata": {
    "collapsed": true
   },
   "outputs": [],
   "source": []
  }
 ],
 "metadata": {
  "kernelspec": {
   "display_name": "Python 3",
   "language": "python",
   "name": "python3"
  },
  "language_info": {
   "codemirror_mode": {
    "name": "ipython",
    "version": 3
   },
   "file_extension": ".py",
   "mimetype": "text/x-python",
   "name": "python",
   "nbconvert_exporter": "python",
   "pygments_lexer": "ipython3",
   "version": "3.6.0"
  }
 },
 "nbformat": 4,
 "nbformat_minor": 2
}
